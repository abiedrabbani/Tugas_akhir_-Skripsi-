{
 "cells": [
  {
   "cell_type": "code",
   "execution_count": 6,
   "metadata": {
    "executionInfo": {
     "elapsed": 1566,
     "status": "ok",
     "timestamp": 1675006102590,
     "user": {
      "displayName": "Abied Rabbani",
      "userId": "07382021329668775231"
     },
     "user_tz": -480
    },
    "id": "c2gq0eolyThi"
   },
   "outputs": [],
   "source": [
    "import pandas as pd\n",
    "import numpy as np\n",
    "import matplotlib.pyplot as plt\n",
    "import seaborn as sns\n",
    "from sklearn.cluster import KMeans\n",
    "from sklearn.metrics import silhouette_samples, silhouette_score\n",
    "import matplotlib.cm as cm\n",
    "from scipy.spatial import distance\n",
    "\n",
    "sns.set()"
   ]
  },
  {
   "cell_type": "code",
   "execution_count": 7,
   "metadata": {},
   "outputs": [],
   "source": [
    "df = pd.read_csv(\"data_covid.csv\")"
   ]
  },
  {
   "cell_type": "markdown",
   "metadata": {
    "id": "B8qcoJ31p2I6"
   },
   "source": [
    "# Data Covid-19 Indonesia"
   ]
  },
  {
   "cell_type": "code",
   "execution_count": 8,
   "metadata": {
    "colab": {
     "base_uri": "https://localhost:8080/",
     "height": 0
    },
    "executionInfo": {
     "elapsed": 61,
     "status": "ok",
     "timestamp": 1675006102591,
     "user": {
      "displayName": "Abied Rabbani",
      "userId": "07382021329668775231"
     },
     "user_tz": -480
    },
    "id": "7jE7Gm7HyY1Z",
    "outputId": "81653630-f713-43d5-b740-2d3e781fec35"
   },
   "outputs": [
    {
     "data": {
      "text/html": [
       "<div>\n",
       "<style scoped>\n",
       "    .dataframe tbody tr th:only-of-type {\n",
       "        vertical-align: middle;\n",
       "    }\n",
       "\n",
       "    .dataframe tbody tr th {\n",
       "        vertical-align: top;\n",
       "    }\n",
       "\n",
       "    .dataframe thead th {\n",
       "        text-align: right;\n",
       "    }\n",
       "</style>\n",
       "<table border=\"1\" class=\"dataframe\">\n",
       "  <thead>\n",
       "    <tr style=\"text-align: right;\">\n",
       "      <th></th>\n",
       "      <th>Date</th>\n",
       "      <th>Location ISO Code</th>\n",
       "      <th>Location</th>\n",
       "      <th>New Cases</th>\n",
       "      <th>New Deaths</th>\n",
       "      <th>New Recovered</th>\n",
       "      <th>New Active Cases</th>\n",
       "      <th>Total Cases</th>\n",
       "      <th>Total Deaths</th>\n",
       "      <th>Total Recovered</th>\n",
       "      <th>...</th>\n",
       "      <th>Latitude</th>\n",
       "      <th>New Cases per Million</th>\n",
       "      <th>Total Cases per Million</th>\n",
       "      <th>New Deaths per Million</th>\n",
       "      <th>Total Deaths per Million</th>\n",
       "      <th>Total Deaths per 100rb</th>\n",
       "      <th>Case Fatality Rate</th>\n",
       "      <th>Case Recovered Rate</th>\n",
       "      <th>Growth Factor of New Cases</th>\n",
       "      <th>Growth Factor of New Deaths</th>\n",
       "    </tr>\n",
       "  </thead>\n",
       "  <tbody>\n",
       "    <tr>\n",
       "      <th>0</th>\n",
       "      <td>3/1/2020</td>\n",
       "      <td>ID-JK</td>\n",
       "      <td>DKI Jakarta</td>\n",
       "      <td>2</td>\n",
       "      <td>0</td>\n",
       "      <td>0</td>\n",
       "      <td>2</td>\n",
       "      <td>39</td>\n",
       "      <td>20</td>\n",
       "      <td>39</td>\n",
       "      <td>...</td>\n",
       "      <td>-6.204699</td>\n",
       "      <td>0.18</td>\n",
       "      <td>3.60</td>\n",
       "      <td>0.0</td>\n",
       "      <td>1.84</td>\n",
       "      <td>0.18</td>\n",
       "      <td>51.28%</td>\n",
       "      <td>100.00%</td>\n",
       "      <td>NaN</td>\n",
       "      <td>NaN</td>\n",
       "    </tr>\n",
       "    <tr>\n",
       "      <th>1</th>\n",
       "      <td>3/2/2020</td>\n",
       "      <td>ID-JK</td>\n",
       "      <td>DKI Jakarta</td>\n",
       "      <td>2</td>\n",
       "      <td>0</td>\n",
       "      <td>0</td>\n",
       "      <td>2</td>\n",
       "      <td>41</td>\n",
       "      <td>20</td>\n",
       "      <td>39</td>\n",
       "      <td>...</td>\n",
       "      <td>-6.204699</td>\n",
       "      <td>0.18</td>\n",
       "      <td>3.78</td>\n",
       "      <td>0.0</td>\n",
       "      <td>1.84</td>\n",
       "      <td>0.18</td>\n",
       "      <td>48.78%</td>\n",
       "      <td>95.12%</td>\n",
       "      <td>1.0</td>\n",
       "      <td>1.0</td>\n",
       "    </tr>\n",
       "    <tr>\n",
       "      <th>2</th>\n",
       "      <td>3/2/2020</td>\n",
       "      <td>IDN</td>\n",
       "      <td>Indonesia</td>\n",
       "      <td>2</td>\n",
       "      <td>0</td>\n",
       "      <td>0</td>\n",
       "      <td>2</td>\n",
       "      <td>2</td>\n",
       "      <td>0</td>\n",
       "      <td>0</td>\n",
       "      <td>...</td>\n",
       "      <td>-0.789275</td>\n",
       "      <td>0.01</td>\n",
       "      <td>0.01</td>\n",
       "      <td>0.0</td>\n",
       "      <td>0.00</td>\n",
       "      <td>0.00</td>\n",
       "      <td>0.00%</td>\n",
       "      <td>0.00%</td>\n",
       "      <td>NaN</td>\n",
       "      <td>NaN</td>\n",
       "    </tr>\n",
       "    <tr>\n",
       "      <th>3</th>\n",
       "      <td>3/2/2020</td>\n",
       "      <td>ID-RI</td>\n",
       "      <td>Riau</td>\n",
       "      <td>1</td>\n",
       "      <td>0</td>\n",
       "      <td>0</td>\n",
       "      <td>1</td>\n",
       "      <td>2</td>\n",
       "      <td>0</td>\n",
       "      <td>0</td>\n",
       "      <td>...</td>\n",
       "      <td>0.511648</td>\n",
       "      <td>0.16</td>\n",
       "      <td>0.33</td>\n",
       "      <td>0.0</td>\n",
       "      <td>0.00</td>\n",
       "      <td>0.00</td>\n",
       "      <td>0.00%</td>\n",
       "      <td>0.00%</td>\n",
       "      <td>NaN</td>\n",
       "      <td>NaN</td>\n",
       "    </tr>\n",
       "    <tr>\n",
       "      <th>4</th>\n",
       "      <td>3/3/2020</td>\n",
       "      <td>ID-JK</td>\n",
       "      <td>DKI Jakarta</td>\n",
       "      <td>2</td>\n",
       "      <td>0</td>\n",
       "      <td>0</td>\n",
       "      <td>2</td>\n",
       "      <td>43</td>\n",
       "      <td>20</td>\n",
       "      <td>39</td>\n",
       "      <td>...</td>\n",
       "      <td>-6.204699</td>\n",
       "      <td>0.18</td>\n",
       "      <td>3.96</td>\n",
       "      <td>0.0</td>\n",
       "      <td>1.84</td>\n",
       "      <td>0.18</td>\n",
       "      <td>46.51%</td>\n",
       "      <td>90.70%</td>\n",
       "      <td>1.0</td>\n",
       "      <td>1.0</td>\n",
       "    </tr>\n",
       "  </tbody>\n",
       "</table>\n",
       "<p>5 rows × 38 columns</p>\n",
       "</div>"
      ],
      "text/plain": [
       "       Date Location ISO Code     Location  New Cases  New Deaths  \\\n",
       "0  3/1/2020             ID-JK  DKI Jakarta          2           0   \n",
       "1  3/2/2020             ID-JK  DKI Jakarta          2           0   \n",
       "2  3/2/2020               IDN    Indonesia          2           0   \n",
       "3  3/2/2020             ID-RI         Riau          1           0   \n",
       "4  3/3/2020             ID-JK  DKI Jakarta          2           0   \n",
       "\n",
       "   New Recovered  New Active Cases  Total Cases  Total Deaths  \\\n",
       "0              0                 2           39            20   \n",
       "1              0                 2           41            20   \n",
       "2              0                 2            2             0   \n",
       "3              0                 1            2             0   \n",
       "4              0                 2           43            20   \n",
       "\n",
       "   Total Recovered  ...  Latitude New Cases per Million  \\\n",
       "0               39  ... -6.204699                  0.18   \n",
       "1               39  ... -6.204699                  0.18   \n",
       "2                0  ... -0.789275                  0.01   \n",
       "3                0  ...  0.511648                  0.16   \n",
       "4               39  ... -6.204699                  0.18   \n",
       "\n",
       "   Total Cases per Million New Deaths per Million Total Deaths per Million  \\\n",
       "0                     3.60                    0.0                     1.84   \n",
       "1                     3.78                    0.0                     1.84   \n",
       "2                     0.01                    0.0                     0.00   \n",
       "3                     0.33                    0.0                     0.00   \n",
       "4                     3.96                    0.0                     1.84   \n",
       "\n",
       "  Total Deaths per 100rb Case Fatality Rate Case Recovered Rate  \\\n",
       "0                   0.18             51.28%             100.00%   \n",
       "1                   0.18             48.78%              95.12%   \n",
       "2                   0.00              0.00%               0.00%   \n",
       "3                   0.00              0.00%               0.00%   \n",
       "4                   0.18             46.51%              90.70%   \n",
       "\n",
       "  Growth Factor of New Cases  Growth Factor of New Deaths  \n",
       "0                        NaN                          NaN  \n",
       "1                        1.0                          1.0  \n",
       "2                        NaN                          NaN  \n",
       "3                        NaN                          NaN  \n",
       "4                        1.0                          1.0  \n",
       "\n",
       "[5 rows x 38 columns]"
      ]
     },
     "execution_count": 8,
     "metadata": {},
     "output_type": "execute_result"
    }
   ],
   "source": [
    "df.head()"
   ]
  },
  {
   "cell_type": "code",
   "execution_count": 9,
   "metadata": {
    "executionInfo": {
     "elapsed": 59,
     "status": "ok",
     "timestamp": 1675006102591,
     "user": {
      "displayName": "Abied Rabbani",
      "userId": "07382021329668775231"
     },
     "user_tz": -480
    },
    "id": "TCzZFLXsvPgv"
   },
   "outputs": [],
   "source": [
    "pd.options.display.min_rows = 20816"
   ]
  },
  {
   "cell_type": "code",
   "execution_count": 5,
   "metadata": {
    "executionInfo": {
     "elapsed": 60,
     "status": "ok",
     "timestamp": 1675006102592,
     "user": {
      "displayName": "Abied Rabbani",
      "userId": "07382021329668775231"
     },
     "user_tz": -480
    },
    "id": "u8TYKQFBuhwV"
   },
   "outputs": [],
   "source": [
    "pd.options.display.max_rows = 20816"
   ]
  },
  {
   "cell_type": "code",
   "execution_count": 6,
   "metadata": {
    "colab": {
     "base_uri": "https://localhost:8080/"
    },
    "executionInfo": {
     "elapsed": 59,
     "status": "ok",
     "timestamp": 1675006102592,
     "user": {
      "displayName": "Abied Rabbani",
      "userId": "07382021329668775231"
     },
     "user_tz": -480
    },
    "id": "mMHiHaqkyfp9",
    "outputId": "67cedc0b-02c5-4161-91a1-c6f0a13c6ecb"
   },
   "outputs": [
    {
     "data": {
      "text/plain": [
       "(20816, 38)"
      ]
     },
     "execution_count": 6,
     "metadata": {},
     "output_type": "execute_result"
    }
   ],
   "source": [
    "df.shape"
   ]
  },
  {
   "cell_type": "code",
   "execution_count": 7,
   "metadata": {
    "colab": {
     "base_uri": "https://localhost:8080/"
    },
    "executionInfo": {
     "elapsed": 58,
     "status": "ok",
     "timestamp": 1675006102593,
     "user": {
      "displayName": "Abied Rabbani",
      "userId": "07382021329668775231"
     },
     "user_tz": -480
    },
    "id": "7lK97FM5Z9uD",
    "outputId": "09bd9bc6-e48d-4c9a-df28-3c4d313ad54f"
   },
   "outputs": [
    {
     "name": "stdout",
     "output_type": "stream",
     "text": [
      "Jumlah Data : 20816 Baris, 38 Kolom\n"
     ]
    }
   ],
   "source": [
    "print('Jumlah Data : {} Baris, {} Kolom'.format(df.shape[0], df.shape[1]))"
   ]
  },
  {
   "cell_type": "code",
   "execution_count": 8,
   "metadata": {
    "colab": {
     "base_uri": "https://localhost:8080/",
     "height": 0
    },
    "executionInfo": {
     "elapsed": 58,
     "status": "ok",
     "timestamp": 1675006102593,
     "user": {
      "displayName": "Abied Rabbani",
      "userId": "07382021329668775231"
     },
     "user_tz": -480
    },
    "id": "N3JGkBqZaI4F",
    "outputId": "2664f935-7188-492e-e00e-c9f03b0e3772"
   },
   "outputs": [
    {
     "data": {
      "text/html": [
       "\n",
       "  <div id=\"df-e3366478-f232-4279-929d-efd391e0c9f2\">\n",
       "    <div class=\"colab-df-container\">\n",
       "      <div>\n",
       "<style scoped>\n",
       "    .dataframe tbody tr th:only-of-type {\n",
       "        vertical-align: middle;\n",
       "    }\n",
       "\n",
       "    .dataframe tbody tr th {\n",
       "        vertical-align: top;\n",
       "    }\n",
       "\n",
       "    .dataframe thead th {\n",
       "        text-align: right;\n",
       "    }\n",
       "</style>\n",
       "<table border=\"1\" class=\"dataframe\">\n",
       "  <thead>\n",
       "    <tr style=\"text-align: right;\">\n",
       "      <th></th>\n",
       "      <th>Date</th>\n",
       "      <th>Location ISO Code</th>\n",
       "      <th>Location</th>\n",
       "      <th>New Cases</th>\n",
       "      <th>New Deaths</th>\n",
       "      <th>New Recovered</th>\n",
       "      <th>New Active Cases</th>\n",
       "      <th>Total Cases</th>\n",
       "      <th>Total Deaths</th>\n",
       "      <th>Total Recovered</th>\n",
       "      <th>...</th>\n",
       "      <th>Latitude</th>\n",
       "      <th>New Cases per Million</th>\n",
       "      <th>Total Cases per Million</th>\n",
       "      <th>New Deaths per Million</th>\n",
       "      <th>Total Deaths per Million</th>\n",
       "      <th>Total Deaths per 100rb</th>\n",
       "      <th>Case Fatality Rate</th>\n",
       "      <th>Case Recovered Rate</th>\n",
       "      <th>Growth Factor of New Cases</th>\n",
       "      <th>Growth Factor of New Deaths</th>\n",
       "    </tr>\n",
       "  </thead>\n",
       "  <tbody>\n",
       "    <tr>\n",
       "      <th>0</th>\n",
       "      <td>3/1/2020</td>\n",
       "      <td>ID-JK</td>\n",
       "      <td>DKI Jakarta</td>\n",
       "      <td>2</td>\n",
       "      <td>0</td>\n",
       "      <td>0</td>\n",
       "      <td>2</td>\n",
       "      <td>39</td>\n",
       "      <td>20</td>\n",
       "      <td>39</td>\n",
       "      <td>...</td>\n",
       "      <td>-6.204699</td>\n",
       "      <td>0.18</td>\n",
       "      <td>3.60</td>\n",
       "      <td>0.0</td>\n",
       "      <td>1.84</td>\n",
       "      <td>0.18</td>\n",
       "      <td>51.28%</td>\n",
       "      <td>100.00%</td>\n",
       "      <td>NaN</td>\n",
       "      <td>NaN</td>\n",
       "    </tr>\n",
       "    <tr>\n",
       "      <th>1</th>\n",
       "      <td>3/2/2020</td>\n",
       "      <td>ID-JK</td>\n",
       "      <td>DKI Jakarta</td>\n",
       "      <td>2</td>\n",
       "      <td>0</td>\n",
       "      <td>0</td>\n",
       "      <td>2</td>\n",
       "      <td>41</td>\n",
       "      <td>20</td>\n",
       "      <td>39</td>\n",
       "      <td>...</td>\n",
       "      <td>-6.204699</td>\n",
       "      <td>0.18</td>\n",
       "      <td>3.78</td>\n",
       "      <td>0.0</td>\n",
       "      <td>1.84</td>\n",
       "      <td>0.18</td>\n",
       "      <td>48.78%</td>\n",
       "      <td>95.12%</td>\n",
       "      <td>1.0</td>\n",
       "      <td>1.0</td>\n",
       "    </tr>\n",
       "    <tr>\n",
       "      <th>2</th>\n",
       "      <td>3/2/2020</td>\n",
       "      <td>IDN</td>\n",
       "      <td>Indonesia</td>\n",
       "      <td>2</td>\n",
       "      <td>0</td>\n",
       "      <td>0</td>\n",
       "      <td>2</td>\n",
       "      <td>2</td>\n",
       "      <td>0</td>\n",
       "      <td>0</td>\n",
       "      <td>...</td>\n",
       "      <td>-0.789275</td>\n",
       "      <td>0.01</td>\n",
       "      <td>0.01</td>\n",
       "      <td>0.0</td>\n",
       "      <td>0.00</td>\n",
       "      <td>0.00</td>\n",
       "      <td>0.00%</td>\n",
       "      <td>0.00%</td>\n",
       "      <td>NaN</td>\n",
       "      <td>NaN</td>\n",
       "    </tr>\n",
       "    <tr>\n",
       "      <th>3</th>\n",
       "      <td>3/2/2020</td>\n",
       "      <td>ID-RI</td>\n",
       "      <td>Riau</td>\n",
       "      <td>1</td>\n",
       "      <td>0</td>\n",
       "      <td>0</td>\n",
       "      <td>1</td>\n",
       "      <td>2</td>\n",
       "      <td>0</td>\n",
       "      <td>0</td>\n",
       "      <td>...</td>\n",
       "      <td>0.511648</td>\n",
       "      <td>0.16</td>\n",
       "      <td>0.33</td>\n",
       "      <td>0.0</td>\n",
       "      <td>0.00</td>\n",
       "      <td>0.00</td>\n",
       "      <td>0.00%</td>\n",
       "      <td>0.00%</td>\n",
       "      <td>NaN</td>\n",
       "      <td>NaN</td>\n",
       "    </tr>\n",
       "    <tr>\n",
       "      <th>4</th>\n",
       "      <td>3/3/2020</td>\n",
       "      <td>ID-JK</td>\n",
       "      <td>DKI Jakarta</td>\n",
       "      <td>2</td>\n",
       "      <td>0</td>\n",
       "      <td>0</td>\n",
       "      <td>2</td>\n",
       "      <td>43</td>\n",
       "      <td>20</td>\n",
       "      <td>39</td>\n",
       "      <td>...</td>\n",
       "      <td>-6.204699</td>\n",
       "      <td>0.18</td>\n",
       "      <td>3.96</td>\n",
       "      <td>0.0</td>\n",
       "      <td>1.84</td>\n",
       "      <td>0.18</td>\n",
       "      <td>46.51%</td>\n",
       "      <td>90.70%</td>\n",
       "      <td>1.0</td>\n",
       "      <td>1.0</td>\n",
       "    </tr>\n",
       "  </tbody>\n",
       "</table>\n",
       "<p>5 rows × 38 columns</p>\n",
       "</div>\n",
       "      <button class=\"colab-df-convert\" onclick=\"convertToInteractive('df-e3366478-f232-4279-929d-efd391e0c9f2')\"\n",
       "              title=\"Convert this dataframe to an interactive table.\"\n",
       "              style=\"display:none;\">\n",
       "        \n",
       "  <svg xmlns=\"http://www.w3.org/2000/svg\" height=\"24px\"viewBox=\"0 0 24 24\"\n",
       "       width=\"24px\">\n",
       "    <path d=\"M0 0h24v24H0V0z\" fill=\"none\"/>\n",
       "    <path d=\"M18.56 5.44l.94 2.06.94-2.06 2.06-.94-2.06-.94-.94-2.06-.94 2.06-2.06.94zm-11 1L8.5 8.5l.94-2.06 2.06-.94-2.06-.94L8.5 2.5l-.94 2.06-2.06.94zm10 10l.94 2.06.94-2.06 2.06-.94-2.06-.94-.94-2.06-.94 2.06-2.06.94z\"/><path d=\"M17.41 7.96l-1.37-1.37c-.4-.4-.92-.59-1.43-.59-.52 0-1.04.2-1.43.59L10.3 9.45l-7.72 7.72c-.78.78-.78 2.05 0 2.83L4 21.41c.39.39.9.59 1.41.59.51 0 1.02-.2 1.41-.59l7.78-7.78 2.81-2.81c.8-.78.8-2.07 0-2.86zM5.41 20L4 18.59l7.72-7.72 1.47 1.35L5.41 20z\"/>\n",
       "  </svg>\n",
       "      </button>\n",
       "      \n",
       "  <style>\n",
       "    .colab-df-container {\n",
       "      display:flex;\n",
       "      flex-wrap:wrap;\n",
       "      gap: 12px;\n",
       "    }\n",
       "\n",
       "    .colab-df-convert {\n",
       "      background-color: #E8F0FE;\n",
       "      border: none;\n",
       "      border-radius: 50%;\n",
       "      cursor: pointer;\n",
       "      display: none;\n",
       "      fill: #1967D2;\n",
       "      height: 32px;\n",
       "      padding: 0 0 0 0;\n",
       "      width: 32px;\n",
       "    }\n",
       "\n",
       "    .colab-df-convert:hover {\n",
       "      background-color: #E2EBFA;\n",
       "      box-shadow: 0px 1px 2px rgba(60, 64, 67, 0.3), 0px 1px 3px 1px rgba(60, 64, 67, 0.15);\n",
       "      fill: #174EA6;\n",
       "    }\n",
       "\n",
       "    [theme=dark] .colab-df-convert {\n",
       "      background-color: #3B4455;\n",
       "      fill: #D2E3FC;\n",
       "    }\n",
       "\n",
       "    [theme=dark] .colab-df-convert:hover {\n",
       "      background-color: #434B5C;\n",
       "      box-shadow: 0px 1px 3px 1px rgba(0, 0, 0, 0.15);\n",
       "      filter: drop-shadow(0px 1px 2px rgba(0, 0, 0, 0.3));\n",
       "      fill: #FFFFFF;\n",
       "    }\n",
       "  </style>\n",
       "\n",
       "      <script>\n",
       "        const buttonEl =\n",
       "          document.querySelector('#df-e3366478-f232-4279-929d-efd391e0c9f2 button.colab-df-convert');\n",
       "        buttonEl.style.display =\n",
       "          google.colab.kernel.accessAllowed ? 'block' : 'none';\n",
       "\n",
       "        async function convertToInteractive(key) {\n",
       "          const element = document.querySelector('#df-e3366478-f232-4279-929d-efd391e0c9f2');\n",
       "          const dataTable =\n",
       "            await google.colab.kernel.invokeFunction('convertToInteractive',\n",
       "                                                     [key], {});\n",
       "          if (!dataTable) return;\n",
       "\n",
       "          const docLinkHtml = 'Like what you see? Visit the ' +\n",
       "            '<a target=\"_blank\" href=https://colab.research.google.com/notebooks/data_table.ipynb>data table notebook</a>'\n",
       "            + ' to learn more about interactive tables.';\n",
       "          element.innerHTML = '';\n",
       "          dataTable['output_type'] = 'display_data';\n",
       "          await google.colab.output.renderOutput(dataTable, element);\n",
       "          const docLink = document.createElement('div');\n",
       "          docLink.innerHTML = docLinkHtml;\n",
       "          element.appendChild(docLink);\n",
       "        }\n",
       "      </script>\n",
       "    </div>\n",
       "  </div>\n",
       "  "
      ],
      "text/plain": [
       "       Date Location ISO Code     Location  New Cases  New Deaths  \\\n",
       "0  3/1/2020             ID-JK  DKI Jakarta          2           0   \n",
       "1  3/2/2020             ID-JK  DKI Jakarta          2           0   \n",
       "2  3/2/2020               IDN    Indonesia          2           0   \n",
       "3  3/2/2020             ID-RI         Riau          1           0   \n",
       "4  3/3/2020             ID-JK  DKI Jakarta          2           0   \n",
       "\n",
       "   New Recovered  New Active Cases  Total Cases  Total Deaths  \\\n",
       "0              0                 2           39            20   \n",
       "1              0                 2           41            20   \n",
       "2              0                 2            2             0   \n",
       "3              0                 1            2             0   \n",
       "4              0                 2           43            20   \n",
       "\n",
       "   Total Recovered  ...  Latitude New Cases per Million  \\\n",
       "0               39  ... -6.204699                  0.18   \n",
       "1               39  ... -6.204699                  0.18   \n",
       "2                0  ... -0.789275                  0.01   \n",
       "3                0  ...  0.511648                  0.16   \n",
       "4               39  ... -6.204699                  0.18   \n",
       "\n",
       "   Total Cases per Million New Deaths per Million Total Deaths per Million  \\\n",
       "0                     3.60                    0.0                     1.84   \n",
       "1                     3.78                    0.0                     1.84   \n",
       "2                     0.01                    0.0                     0.00   \n",
       "3                     0.33                    0.0                     0.00   \n",
       "4                     3.96                    0.0                     1.84   \n",
       "\n",
       "  Total Deaths per 100rb Case Fatality Rate Case Recovered Rate  \\\n",
       "0                   0.18             51.28%             100.00%   \n",
       "1                   0.18             48.78%              95.12%   \n",
       "2                   0.00              0.00%               0.00%   \n",
       "3                   0.00              0.00%               0.00%   \n",
       "4                   0.18             46.51%              90.70%   \n",
       "\n",
       "  Growth Factor of New Cases  Growth Factor of New Deaths  \n",
       "0                        NaN                          NaN  \n",
       "1                        1.0                          1.0  \n",
       "2                        NaN                          NaN  \n",
       "3                        NaN                          NaN  \n",
       "4                        1.0                          1.0  \n",
       "\n",
       "[5 rows x 38 columns]"
      ]
     },
     "execution_count": 8,
     "metadata": {},
     "output_type": "execute_result"
    }
   ],
   "source": [
    "df.head()"
   ]
  },
  {
   "cell_type": "code",
   "execution_count": 9,
   "metadata": {
    "colab": {
     "base_uri": "https://localhost:8080/"
    },
    "executionInfo": {
     "elapsed": 57,
     "status": "ok",
     "timestamp": 1675006102594,
     "user": {
      "displayName": "Abied Rabbani",
      "userId": "07382021329668775231"
     },
     "user_tz": -480
    },
    "id": "kITJeNFFqr3D",
    "outputId": "fe81db73-70a9-4e57-d539-af4168f7f2a2"
   },
   "outputs": [
    {
     "data": {
      "text/plain": [
       "Date                               0\n",
       "Location ISO Code                  0\n",
       "Location                           0\n",
       "New Cases                          0\n",
       "New Deaths                         0\n",
       "New Recovered                      0\n",
       "New Active Cases                   0\n",
       "Total Cases                        0\n",
       "Total Deaths                       0\n",
       "Total Recovered                    0\n",
       "Total Active Cases                 0\n",
       "Location Level                     0\n",
       "City or Regency                20816\n",
       "Province                         614\n",
       "Country                            0\n",
       "Continent                          0\n",
       "Island                           614\n",
       "Time Zone                        614\n",
       "Special Status                 17828\n",
       "Total Regencies                    0\n",
       "Total Cities                     588\n",
       "Total Districts                    0\n",
       "Total Urban Villages             590\n",
       "Total Rural Villages             615\n",
       "Area (km2)                         0\n",
       "Population                         0\n",
       "Population Density                 0\n",
       "Longitude                          0\n",
       "Latitude                           0\n",
       "New Cases per Million              0\n",
       "Total Cases per Million            0\n",
       "New Deaths per Million             0\n",
       "Total Deaths per Million           0\n",
       "Total Deaths per 100rb             0\n",
       "Case Fatality Rate                 0\n",
       "Case Recovered Rate                0\n",
       "Growth Factor of New Cases      1107\n",
       "Growth Factor of New Deaths     2367\n",
       "dtype: int64"
      ]
     },
     "execution_count": 9,
     "metadata": {},
     "output_type": "execute_result"
    }
   ],
   "source": [
    "df.isna().sum()"
   ]
  },
  {
   "cell_type": "code",
   "execution_count": 10,
   "metadata": {
    "colab": {
     "base_uri": "https://localhost:8080/"
    },
    "executionInfo": {
     "elapsed": 56,
     "status": "ok",
     "timestamp": 1675006102595,
     "user": {
      "displayName": "Abied Rabbani",
      "userId": "07382021329668775231"
     },
     "user_tz": -480
    },
    "id": "E3b_yCjZqyeB",
    "outputId": "c8baed08-5e52-4bed-b3fe-1bb7fce41c49"
   },
   "outputs": [
    {
     "name": "stdout",
     "output_type": "stream",
     "text": [
      "<class 'pandas.core.frame.DataFrame'>\n",
      "RangeIndex: 20816 entries, 0 to 20815\n",
      "Data columns (total 38 columns):\n",
      " #   Column                       Non-Null Count  Dtype  \n",
      "---  ------                       --------------  -----  \n",
      " 0   Date                         20816 non-null  object \n",
      " 1   Location ISO Code            20816 non-null  object \n",
      " 2   Location                     20816 non-null  object \n",
      " 3   New Cases                    20816 non-null  int64  \n",
      " 4   New Deaths                   20816 non-null  int64  \n",
      " 5   New Recovered                20816 non-null  int64  \n",
      " 6   New Active Cases             20816 non-null  int64  \n",
      " 7   Total Cases                  20816 non-null  int64  \n",
      " 8   Total Deaths                 20816 non-null  int64  \n",
      " 9   Total Recovered              20816 non-null  int64  \n",
      " 10  Total Active Cases           20816 non-null  int64  \n",
      " 11  Location Level               20816 non-null  object \n",
      " 12  City or Regency              0 non-null      float64\n",
      " 13  Province                     20202 non-null  object \n",
      " 14  Country                      20816 non-null  object \n",
      " 15  Continent                    20816 non-null  object \n",
      " 16  Island                       20202 non-null  object \n",
      " 17  Time Zone                    20202 non-null  object \n",
      " 18  Special Status               2988 non-null   object \n",
      " 19  Total Regencies              20816 non-null  int64  \n",
      " 20  Total Cities                 20228 non-null  float64\n",
      " 21  Total Districts              20816 non-null  int64  \n",
      " 22  Total Urban Villages         20226 non-null  float64\n",
      " 23  Total Rural Villages         20201 non-null  float64\n",
      " 24  Area (km2)                   20816 non-null  int64  \n",
      " 25  Population                   20816 non-null  int64  \n",
      " 26  Population Density           20816 non-null  float64\n",
      " 27  Longitude                    20816 non-null  float64\n",
      " 28  Latitude                     20816 non-null  float64\n",
      " 29  New Cases per Million        20816 non-null  float64\n",
      " 30  Total Cases per Million      20816 non-null  float64\n",
      " 31  New Deaths per Million       20816 non-null  float64\n",
      " 32  Total Deaths per Million     20816 non-null  float64\n",
      " 33  Total Deaths per 100rb       20816 non-null  float64\n",
      " 34  Case Fatality Rate           20816 non-null  object \n",
      " 35  Case Recovered Rate          20816 non-null  object \n",
      " 36  Growth Factor of New Cases   19709 non-null  float64\n",
      " 37  Growth Factor of New Deaths  18449 non-null  float64\n",
      "dtypes: float64(14), int64(12), object(12)\n",
      "memory usage: 6.0+ MB\n"
     ]
    }
   ],
   "source": [
    "df.info()"
   ]
  },
  {
   "cell_type": "markdown",
   "metadata": {
    "id": "-n1jyb6JCd4q"
   },
   "source": [
    "# Cluster Total Case, Total Death, Total Recovered"
   ]
  },
  {
   "cell_type": "code",
   "execution_count": 11,
   "metadata": {
    "colab": {
     "base_uri": "https://localhost:8080/",
     "height": 0
    },
    "executionInfo": {
     "elapsed": 54,
     "status": "ok",
     "timestamp": 1675006102595,
     "user": {
      "displayName": "Abied Rabbani",
      "userId": "07382021329668775231"
     },
     "user_tz": -480
    },
    "id": "vAI9qeTyCv-Z",
    "outputId": "0a92f2ea-5387-47f7-850f-0b92d166dabf"
   },
   "outputs": [
    {
     "data": {
      "text/html": [
       "\n",
       "  <div id=\"df-2ee393fd-485b-479c-9e7f-477e76314dca\">\n",
       "    <div class=\"colab-df-container\">\n",
       "      <div>\n",
       "<style scoped>\n",
       "    .dataframe tbody tr th:only-of-type {\n",
       "        vertical-align: middle;\n",
       "    }\n",
       "\n",
       "    .dataframe tbody tr th {\n",
       "        vertical-align: top;\n",
       "    }\n",
       "\n",
       "    .dataframe thead th {\n",
       "        text-align: right;\n",
       "    }\n",
       "</style>\n",
       "<table border=\"1\" class=\"dataframe\">\n",
       "  <thead>\n",
       "    <tr style=\"text-align: right;\">\n",
       "      <th></th>\n",
       "      <th>Date</th>\n",
       "      <th>Location</th>\n",
       "      <th>Total Cases</th>\n",
       "      <th>Total Deaths</th>\n",
       "      <th>Total Recovered</th>\n",
       "    </tr>\n",
       "  </thead>\n",
       "  <tbody>\n",
       "    <tr>\n",
       "      <th>0</th>\n",
       "      <td>3/1/2020</td>\n",
       "      <td>DKI Jakarta</td>\n",
       "      <td>39</td>\n",
       "      <td>20</td>\n",
       "      <td>39</td>\n",
       "    </tr>\n",
       "    <tr>\n",
       "      <th>1</th>\n",
       "      <td>3/2/2020</td>\n",
       "      <td>DKI Jakarta</td>\n",
       "      <td>41</td>\n",
       "      <td>20</td>\n",
       "      <td>39</td>\n",
       "    </tr>\n",
       "    <tr>\n",
       "      <th>2</th>\n",
       "      <td>3/2/2020</td>\n",
       "      <td>Indonesia</td>\n",
       "      <td>2</td>\n",
       "      <td>0</td>\n",
       "      <td>0</td>\n",
       "    </tr>\n",
       "    <tr>\n",
       "      <th>3</th>\n",
       "      <td>3/2/2020</td>\n",
       "      <td>Riau</td>\n",
       "      <td>2</td>\n",
       "      <td>0</td>\n",
       "      <td>0</td>\n",
       "    </tr>\n",
       "    <tr>\n",
       "      <th>4</th>\n",
       "      <td>3/3/2020</td>\n",
       "      <td>DKI Jakarta</td>\n",
       "      <td>43</td>\n",
       "      <td>20</td>\n",
       "      <td>39</td>\n",
       "    </tr>\n",
       "  </tbody>\n",
       "</table>\n",
       "</div>\n",
       "      <button class=\"colab-df-convert\" onclick=\"convertToInteractive('df-2ee393fd-485b-479c-9e7f-477e76314dca')\"\n",
       "              title=\"Convert this dataframe to an interactive table.\"\n",
       "              style=\"display:none;\">\n",
       "        \n",
       "  <svg xmlns=\"http://www.w3.org/2000/svg\" height=\"24px\"viewBox=\"0 0 24 24\"\n",
       "       width=\"24px\">\n",
       "    <path d=\"M0 0h24v24H0V0z\" fill=\"none\"/>\n",
       "    <path d=\"M18.56 5.44l.94 2.06.94-2.06 2.06-.94-2.06-.94-.94-2.06-.94 2.06-2.06.94zm-11 1L8.5 8.5l.94-2.06 2.06-.94-2.06-.94L8.5 2.5l-.94 2.06-2.06.94zm10 10l.94 2.06.94-2.06 2.06-.94-2.06-.94-.94-2.06-.94 2.06-2.06.94z\"/><path d=\"M17.41 7.96l-1.37-1.37c-.4-.4-.92-.59-1.43-.59-.52 0-1.04.2-1.43.59L10.3 9.45l-7.72 7.72c-.78.78-.78 2.05 0 2.83L4 21.41c.39.39.9.59 1.41.59.51 0 1.02-.2 1.41-.59l7.78-7.78 2.81-2.81c.8-.78.8-2.07 0-2.86zM5.41 20L4 18.59l7.72-7.72 1.47 1.35L5.41 20z\"/>\n",
       "  </svg>\n",
       "      </button>\n",
       "      \n",
       "  <style>\n",
       "    .colab-df-container {\n",
       "      display:flex;\n",
       "      flex-wrap:wrap;\n",
       "      gap: 12px;\n",
       "    }\n",
       "\n",
       "    .colab-df-convert {\n",
       "      background-color: #E8F0FE;\n",
       "      border: none;\n",
       "      border-radius: 50%;\n",
       "      cursor: pointer;\n",
       "      display: none;\n",
       "      fill: #1967D2;\n",
       "      height: 32px;\n",
       "      padding: 0 0 0 0;\n",
       "      width: 32px;\n",
       "    }\n",
       "\n",
       "    .colab-df-convert:hover {\n",
       "      background-color: #E2EBFA;\n",
       "      box-shadow: 0px 1px 2px rgba(60, 64, 67, 0.3), 0px 1px 3px 1px rgba(60, 64, 67, 0.15);\n",
       "      fill: #174EA6;\n",
       "    }\n",
       "\n",
       "    [theme=dark] .colab-df-convert {\n",
       "      background-color: #3B4455;\n",
       "      fill: #D2E3FC;\n",
       "    }\n",
       "\n",
       "    [theme=dark] .colab-df-convert:hover {\n",
       "      background-color: #434B5C;\n",
       "      box-shadow: 0px 1px 3px 1px rgba(0, 0, 0, 0.15);\n",
       "      filter: drop-shadow(0px 1px 2px rgba(0, 0, 0, 0.3));\n",
       "      fill: #FFFFFF;\n",
       "    }\n",
       "  </style>\n",
       "\n",
       "      <script>\n",
       "        const buttonEl =\n",
       "          document.querySelector('#df-2ee393fd-485b-479c-9e7f-477e76314dca button.colab-df-convert');\n",
       "        buttonEl.style.display =\n",
       "          google.colab.kernel.accessAllowed ? 'block' : 'none';\n",
       "\n",
       "        async function convertToInteractive(key) {\n",
       "          const element = document.querySelector('#df-2ee393fd-485b-479c-9e7f-477e76314dca');\n",
       "          const dataTable =\n",
       "            await google.colab.kernel.invokeFunction('convertToInteractive',\n",
       "                                                     [key], {});\n",
       "          if (!dataTable) return;\n",
       "\n",
       "          const docLinkHtml = 'Like what you see? Visit the ' +\n",
       "            '<a target=\"_blank\" href=https://colab.research.google.com/notebooks/data_table.ipynb>data table notebook</a>'\n",
       "            + ' to learn more about interactive tables.';\n",
       "          element.innerHTML = '';\n",
       "          dataTable['output_type'] = 'display_data';\n",
       "          await google.colab.output.renderOutput(dataTable, element);\n",
       "          const docLink = document.createElement('div');\n",
       "          docLink.innerHTML = docLinkHtml;\n",
       "          element.appendChild(docLink);\n",
       "        }\n",
       "      </script>\n",
       "    </div>\n",
       "  </div>\n",
       "  "
      ],
      "text/plain": [
       "       Date     Location  Total Cases  Total Deaths  Total Recovered\n",
       "0  3/1/2020  DKI Jakarta           39            20               39\n",
       "1  3/2/2020  DKI Jakarta           41            20               39\n",
       "2  3/2/2020    Indonesia            2             0                0\n",
       "3  3/2/2020         Riau            2             0                0\n",
       "4  3/3/2020  DKI Jakarta           43            20               39"
      ]
     },
     "execution_count": 11,
     "metadata": {},
     "output_type": "execute_result"
    }
   ],
   "source": [
    "df_pms= df[['Date','Location','Total Cases','Total Deaths','Total Recovered']].copy()\n",
    "df_pms.head()"
   ]
  },
  {
   "cell_type": "code",
   "execution_count": 12,
   "metadata": {
    "colab": {
     "base_uri": "https://localhost:8080/",
     "height": 0
    },
    "executionInfo": {
     "elapsed": 53,
     "status": "ok",
     "timestamp": 1675006102596,
     "user": {
      "displayName": "Abied Rabbani",
      "userId": "07382021329668775231"
     },
     "user_tz": -480
    },
    "id": "5vNl6UNjK2Ne",
    "outputId": "fec81940-f6ec-431a-eda2-cb88034186e4"
   },
   "outputs": [
    {
     "data": {
      "text/html": [
       "\n",
       "  <div id=\"df-4c447b55-1b1c-4f60-b1a6-5a9c815e37c5\">\n",
       "    <div class=\"colab-df-container\">\n",
       "      <div>\n",
       "<style scoped>\n",
       "    .dataframe tbody tr th:only-of-type {\n",
       "        vertical-align: middle;\n",
       "    }\n",
       "\n",
       "    .dataframe tbody tr th {\n",
       "        vertical-align: top;\n",
       "    }\n",
       "\n",
       "    .dataframe thead th {\n",
       "        text-align: right;\n",
       "    }\n",
       "</style>\n",
       "<table border=\"1\" class=\"dataframe\">\n",
       "  <thead>\n",
       "    <tr style=\"text-align: right;\">\n",
       "      <th></th>\n",
       "      <th>Tanggal</th>\n",
       "      <th>Lokasi</th>\n",
       "      <th>Terkonfirmasi</th>\n",
       "      <th>Meninggal</th>\n",
       "      <th>Sembuh</th>\n",
       "    </tr>\n",
       "  </thead>\n",
       "  <tbody>\n",
       "    <tr>\n",
       "      <th>0</th>\n",
       "      <td>3/1/2020</td>\n",
       "      <td>DKI Jakarta</td>\n",
       "      <td>39</td>\n",
       "      <td>20</td>\n",
       "      <td>39</td>\n",
       "    </tr>\n",
       "    <tr>\n",
       "      <th>1</th>\n",
       "      <td>3/2/2020</td>\n",
       "      <td>DKI Jakarta</td>\n",
       "      <td>41</td>\n",
       "      <td>20</td>\n",
       "      <td>39</td>\n",
       "    </tr>\n",
       "    <tr>\n",
       "      <th>2</th>\n",
       "      <td>3/2/2020</td>\n",
       "      <td>Indonesia</td>\n",
       "      <td>2</td>\n",
       "      <td>0</td>\n",
       "      <td>0</td>\n",
       "    </tr>\n",
       "    <tr>\n",
       "      <th>3</th>\n",
       "      <td>3/2/2020</td>\n",
       "      <td>Riau</td>\n",
       "      <td>2</td>\n",
       "      <td>0</td>\n",
       "      <td>0</td>\n",
       "    </tr>\n",
       "    <tr>\n",
       "      <th>4</th>\n",
       "      <td>3/3/2020</td>\n",
       "      <td>DKI Jakarta</td>\n",
       "      <td>43</td>\n",
       "      <td>20</td>\n",
       "      <td>39</td>\n",
       "    </tr>\n",
       "  </tbody>\n",
       "</table>\n",
       "</div>\n",
       "      <button class=\"colab-df-convert\" onclick=\"convertToInteractive('df-4c447b55-1b1c-4f60-b1a6-5a9c815e37c5')\"\n",
       "              title=\"Convert this dataframe to an interactive table.\"\n",
       "              style=\"display:none;\">\n",
       "        \n",
       "  <svg xmlns=\"http://www.w3.org/2000/svg\" height=\"24px\"viewBox=\"0 0 24 24\"\n",
       "       width=\"24px\">\n",
       "    <path d=\"M0 0h24v24H0V0z\" fill=\"none\"/>\n",
       "    <path d=\"M18.56 5.44l.94 2.06.94-2.06 2.06-.94-2.06-.94-.94-2.06-.94 2.06-2.06.94zm-11 1L8.5 8.5l.94-2.06 2.06-.94-2.06-.94L8.5 2.5l-.94 2.06-2.06.94zm10 10l.94 2.06.94-2.06 2.06-.94-2.06-.94-.94-2.06-.94 2.06-2.06.94z\"/><path d=\"M17.41 7.96l-1.37-1.37c-.4-.4-.92-.59-1.43-.59-.52 0-1.04.2-1.43.59L10.3 9.45l-7.72 7.72c-.78.78-.78 2.05 0 2.83L4 21.41c.39.39.9.59 1.41.59.51 0 1.02-.2 1.41-.59l7.78-7.78 2.81-2.81c.8-.78.8-2.07 0-2.86zM5.41 20L4 18.59l7.72-7.72 1.47 1.35L5.41 20z\"/>\n",
       "  </svg>\n",
       "      </button>\n",
       "      \n",
       "  <style>\n",
       "    .colab-df-container {\n",
       "      display:flex;\n",
       "      flex-wrap:wrap;\n",
       "      gap: 12px;\n",
       "    }\n",
       "\n",
       "    .colab-df-convert {\n",
       "      background-color: #E8F0FE;\n",
       "      border: none;\n",
       "      border-radius: 50%;\n",
       "      cursor: pointer;\n",
       "      display: none;\n",
       "      fill: #1967D2;\n",
       "      height: 32px;\n",
       "      padding: 0 0 0 0;\n",
       "      width: 32px;\n",
       "    }\n",
       "\n",
       "    .colab-df-convert:hover {\n",
       "      background-color: #E2EBFA;\n",
       "      box-shadow: 0px 1px 2px rgba(60, 64, 67, 0.3), 0px 1px 3px 1px rgba(60, 64, 67, 0.15);\n",
       "      fill: #174EA6;\n",
       "    }\n",
       "\n",
       "    [theme=dark] .colab-df-convert {\n",
       "      background-color: #3B4455;\n",
       "      fill: #D2E3FC;\n",
       "    }\n",
       "\n",
       "    [theme=dark] .colab-df-convert:hover {\n",
       "      background-color: #434B5C;\n",
       "      box-shadow: 0px 1px 3px 1px rgba(0, 0, 0, 0.15);\n",
       "      filter: drop-shadow(0px 1px 2px rgba(0, 0, 0, 0.3));\n",
       "      fill: #FFFFFF;\n",
       "    }\n",
       "  </style>\n",
       "\n",
       "      <script>\n",
       "        const buttonEl =\n",
       "          document.querySelector('#df-4c447b55-1b1c-4f60-b1a6-5a9c815e37c5 button.colab-df-convert');\n",
       "        buttonEl.style.display =\n",
       "          google.colab.kernel.accessAllowed ? 'block' : 'none';\n",
       "\n",
       "        async function convertToInteractive(key) {\n",
       "          const element = document.querySelector('#df-4c447b55-1b1c-4f60-b1a6-5a9c815e37c5');\n",
       "          const dataTable =\n",
       "            await google.colab.kernel.invokeFunction('convertToInteractive',\n",
       "                                                     [key], {});\n",
       "          if (!dataTable) return;\n",
       "\n",
       "          const docLinkHtml = 'Like what you see? Visit the ' +\n",
       "            '<a target=\"_blank\" href=https://colab.research.google.com/notebooks/data_table.ipynb>data table notebook</a>'\n",
       "            + ' to learn more about interactive tables.';\n",
       "          element.innerHTML = '';\n",
       "          dataTable['output_type'] = 'display_data';\n",
       "          await google.colab.output.renderOutput(dataTable, element);\n",
       "          const docLink = document.createElement('div');\n",
       "          docLink.innerHTML = docLinkHtml;\n",
       "          element.appendChild(docLink);\n",
       "        }\n",
       "      </script>\n",
       "    </div>\n",
       "  </div>\n",
       "  "
      ],
      "text/plain": [
       "    Tanggal       Lokasi  Terkonfirmasi  Meninggal  Sembuh\n",
       "0  3/1/2020  DKI Jakarta             39         20      39\n",
       "1  3/2/2020  DKI Jakarta             41         20      39\n",
       "2  3/2/2020    Indonesia              2          0       0\n",
       "3  3/2/2020         Riau              2          0       0\n",
       "4  3/3/2020  DKI Jakarta             43         20      39"
      ]
     },
     "execution_count": 12,
     "metadata": {},
     "output_type": "execute_result"
    }
   ],
   "source": [
    "df_pms = df_pms.rename(columns={'Date':'Tanggal','Location':'Lokasi','Total Cases':'Terkonfirmasi','Total Deaths':'Meninggal','Total Recovered':'Sembuh'})\n",
    "df_pms.head()"
   ]
  },
  {
   "cell_type": "code",
   "execution_count": 13,
   "metadata": {
    "colab": {
     "base_uri": "https://localhost:8080/",
     "height": 0
    },
    "executionInfo": {
     "elapsed": 51,
     "status": "ok",
     "timestamp": 1675006102596,
     "user": {
      "displayName": "Abied Rabbani",
      "userId": "07382021329668775231"
     },
     "user_tz": -480
    },
    "id": "867f27KlSvAZ",
    "outputId": "81d68fd7-8794-4520-dd3d-2f5a3cc3f961"
   },
   "outputs": [
    {
     "data": {
      "text/html": [
       "\n",
       "  <div id=\"df-70aa733f-86f7-4e37-9d02-dce4a0287d8b\">\n",
       "    <div class=\"colab-df-container\">\n",
       "      <div>\n",
       "<style scoped>\n",
       "    .dataframe tbody tr th:only-of-type {\n",
       "        vertical-align: middle;\n",
       "    }\n",
       "\n",
       "    .dataframe tbody tr th {\n",
       "        vertical-align: top;\n",
       "    }\n",
       "\n",
       "    .dataframe thead th {\n",
       "        text-align: right;\n",
       "    }\n",
       "</style>\n",
       "<table border=\"1\" class=\"dataframe\">\n",
       "  <thead>\n",
       "    <tr style=\"text-align: right;\">\n",
       "      <th></th>\n",
       "      <th>Tanggal</th>\n",
       "      <th>Lokasi</th>\n",
       "      <th>Terkonfirmasi</th>\n",
       "      <th>Meninggal</th>\n",
       "      <th>Sembuh</th>\n",
       "      <th>Cluster</th>\n",
       "    </tr>\n",
       "  </thead>\n",
       "  <tbody>\n",
       "    <tr>\n",
       "      <th>0</th>\n",
       "      <td>3/1/2020</td>\n",
       "      <td>DKI Jakarta</td>\n",
       "      <td>39</td>\n",
       "      <td>20</td>\n",
       "      <td>39</td>\n",
       "      <td>1</td>\n",
       "    </tr>\n",
       "    <tr>\n",
       "      <th>1</th>\n",
       "      <td>3/2/2020</td>\n",
       "      <td>DKI Jakarta</td>\n",
       "      <td>41</td>\n",
       "      <td>20</td>\n",
       "      <td>39</td>\n",
       "      <td>1</td>\n",
       "    </tr>\n",
       "    <tr>\n",
       "      <th>2</th>\n",
       "      <td>3/2/2020</td>\n",
       "      <td>Indonesia</td>\n",
       "      <td>2</td>\n",
       "      <td>0</td>\n",
       "      <td>0</td>\n",
       "      <td>1</td>\n",
       "    </tr>\n",
       "    <tr>\n",
       "      <th>3</th>\n",
       "      <td>3/2/2020</td>\n",
       "      <td>Riau</td>\n",
       "      <td>2</td>\n",
       "      <td>0</td>\n",
       "      <td>0</td>\n",
       "      <td>1</td>\n",
       "    </tr>\n",
       "    <tr>\n",
       "      <th>4</th>\n",
       "      <td>3/3/2020</td>\n",
       "      <td>DKI Jakarta</td>\n",
       "      <td>43</td>\n",
       "      <td>20</td>\n",
       "      <td>39</td>\n",
       "      <td>1</td>\n",
       "    </tr>\n",
       "  </tbody>\n",
       "</table>\n",
       "</div>\n",
       "      <button class=\"colab-df-convert\" onclick=\"convertToInteractive('df-70aa733f-86f7-4e37-9d02-dce4a0287d8b')\"\n",
       "              title=\"Convert this dataframe to an interactive table.\"\n",
       "              style=\"display:none;\">\n",
       "        \n",
       "  <svg xmlns=\"http://www.w3.org/2000/svg\" height=\"24px\"viewBox=\"0 0 24 24\"\n",
       "       width=\"24px\">\n",
       "    <path d=\"M0 0h24v24H0V0z\" fill=\"none\"/>\n",
       "    <path d=\"M18.56 5.44l.94 2.06.94-2.06 2.06-.94-2.06-.94-.94-2.06-.94 2.06-2.06.94zm-11 1L8.5 8.5l.94-2.06 2.06-.94-2.06-.94L8.5 2.5l-.94 2.06-2.06.94zm10 10l.94 2.06.94-2.06 2.06-.94-2.06-.94-.94-2.06-.94 2.06-2.06.94z\"/><path d=\"M17.41 7.96l-1.37-1.37c-.4-.4-.92-.59-1.43-.59-.52 0-1.04.2-1.43.59L10.3 9.45l-7.72 7.72c-.78.78-.78 2.05 0 2.83L4 21.41c.39.39.9.59 1.41.59.51 0 1.02-.2 1.41-.59l7.78-7.78 2.81-2.81c.8-.78.8-2.07 0-2.86zM5.41 20L4 18.59l7.72-7.72 1.47 1.35L5.41 20z\"/>\n",
       "  </svg>\n",
       "      </button>\n",
       "      \n",
       "  <style>\n",
       "    .colab-df-container {\n",
       "      display:flex;\n",
       "      flex-wrap:wrap;\n",
       "      gap: 12px;\n",
       "    }\n",
       "\n",
       "    .colab-df-convert {\n",
       "      background-color: #E8F0FE;\n",
       "      border: none;\n",
       "      border-radius: 50%;\n",
       "      cursor: pointer;\n",
       "      display: none;\n",
       "      fill: #1967D2;\n",
       "      height: 32px;\n",
       "      padding: 0 0 0 0;\n",
       "      width: 32px;\n",
       "    }\n",
       "\n",
       "    .colab-df-convert:hover {\n",
       "      background-color: #E2EBFA;\n",
       "      box-shadow: 0px 1px 2px rgba(60, 64, 67, 0.3), 0px 1px 3px 1px rgba(60, 64, 67, 0.15);\n",
       "      fill: #174EA6;\n",
       "    }\n",
       "\n",
       "    [theme=dark] .colab-df-convert {\n",
       "      background-color: #3B4455;\n",
       "      fill: #D2E3FC;\n",
       "    }\n",
       "\n",
       "    [theme=dark] .colab-df-convert:hover {\n",
       "      background-color: #434B5C;\n",
       "      box-shadow: 0px 1px 3px 1px rgba(0, 0, 0, 0.15);\n",
       "      filter: drop-shadow(0px 1px 2px rgba(0, 0, 0, 0.3));\n",
       "      fill: #FFFFFF;\n",
       "    }\n",
       "  </style>\n",
       "\n",
       "      <script>\n",
       "        const buttonEl =\n",
       "          document.querySelector('#df-70aa733f-86f7-4e37-9d02-dce4a0287d8b button.colab-df-convert');\n",
       "        buttonEl.style.display =\n",
       "          google.colab.kernel.accessAllowed ? 'block' : 'none';\n",
       "\n",
       "        async function convertToInteractive(key) {\n",
       "          const element = document.querySelector('#df-70aa733f-86f7-4e37-9d02-dce4a0287d8b');\n",
       "          const dataTable =\n",
       "            await google.colab.kernel.invokeFunction('convertToInteractive',\n",
       "                                                     [key], {});\n",
       "          if (!dataTable) return;\n",
       "\n",
       "          const docLinkHtml = 'Like what you see? Visit the ' +\n",
       "            '<a target=\"_blank\" href=https://colab.research.google.com/notebooks/data_table.ipynb>data table notebook</a>'\n",
       "            + ' to learn more about interactive tables.';\n",
       "          element.innerHTML = '';\n",
       "          dataTable['output_type'] = 'display_data';\n",
       "          await google.colab.output.renderOutput(dataTable, element);\n",
       "          const docLink = document.createElement('div');\n",
       "          docLink.innerHTML = docLinkHtml;\n",
       "          element.appendChild(docLink);\n",
       "        }\n",
       "      </script>\n",
       "    </div>\n",
       "  </div>\n",
       "  "
      ],
      "text/plain": [
       "    Tanggal       Lokasi  Terkonfirmasi  Meninggal  Sembuh  Cluster\n",
       "0  3/1/2020  DKI Jakarta             39         20      39        1\n",
       "1  3/2/2020  DKI Jakarta             41         20      39        1\n",
       "2  3/2/2020    Indonesia              2          0       0        1\n",
       "3  3/2/2020         Riau              2          0       0        1\n",
       "4  3/3/2020  DKI Jakarta             43         20      39        1"
      ]
     },
     "execution_count": 13,
     "metadata": {},
     "output_type": "execute_result"
    }
   ],
   "source": [
    "mod_pms = KMeans(n_clusters=3, init='random', n_init=2, random_state=1)\n",
    "label_pms = mod_pms.fit_predict(df_pms[['Terkonfirmasi','Meninggal','Sembuh']].values)\n",
    "\n",
    "df_pms['Cluster'] = label_pms\n",
    "\n",
    "df_pms.head()"
   ]
  },
  {
   "cell_type": "code",
   "execution_count": 14,
   "metadata": {
    "colab": {
     "base_uri": "https://localhost:8080/",
     "height": 0,
     "output_embedded_package_id": "1Emr4DNLTjR1iWbsTMgtbcBqzIbgf9VjL"
    },
    "executionInfo": {
     "elapsed": 4876,
     "status": "ok",
     "timestamp": 1675006107424,
     "user": {
      "displayName": "Abied Rabbani",
      "userId": "07382021329668775231"
     },
     "user_tz": -480
    },
    "id": "lvDaMNp2zOAs",
    "outputId": "958f1dea-7e64-4eff-d0b2-b03b8d3ff3b4"
   },
   "outputs": [
    {
     "data": {
      "text/plain": [
       "Output hidden; open in https://colab.research.google.com to view."
      ]
     },
     "metadata": {},
     "output_type": "display_data"
    }
   ],
   "source": [
    "df_pms"
   ]
  },
  {
   "cell_type": "code",
   "execution_count": 15,
   "metadata": {
    "colab": {
     "base_uri": "https://localhost:8080/"
    },
    "executionInfo": {
     "elapsed": 7,
     "status": "ok",
     "timestamp": 1675006107425,
     "user": {
      "displayName": "Abied Rabbani",
      "userId": "07382021329668775231"
     },
     "user_tz": -480
    },
    "id": "IjrhT10YWAlf",
    "outputId": "22163565-d6fa-4a37-e366-ec58280c4ee3"
   },
   "outputs": [
    {
     "name": "stdout",
     "output_type": "stream",
     "text": [
      "Jumlah iterasi pada proses training K-Means : 18\n"
     ]
    }
   ],
   "source": [
    "print(f'Jumlah iterasi pada proses training K-Means : {mod_pms.n_iter_}')"
   ]
  },
  {
   "cell_type": "code",
   "execution_count": 16,
   "metadata": {
    "colab": {
     "base_uri": "https://localhost:8080/",
     "height": 0,
     "output_embedded_package_id": "1kEza3sIyPpUAabVBGZSg_WQg7dklFvEd"
    },
    "executionInfo": {
     "elapsed": 2407,
     "status": "ok",
     "timestamp": 1675006109826,
     "user": {
      "displayName": "Abied Rabbani",
      "userId": "07382021329668775231"
     },
     "user_tz": -480
    },
    "id": "2vaaDviOWd1U",
    "outputId": "3192813f-9786-431e-c713-135017b940d2"
   },
   "outputs": [
    {
     "data": {
      "text/plain": [
       "Output hidden; open in https://colab.research.google.com to view."
      ]
     },
     "metadata": {},
     "output_type": "display_data"
    }
   ],
   "source": [
    "cl_0_pms = df_pms[df_pms.Cluster == 0]\n",
    "cl_1_pms = df_pms[df_pms.Cluster == 1]\n",
    "cl_2_pms = df_pms[df_pms.Cluster == 2]\n",
    "\n",
    "colors = [\"#26b99d\", \"#ff3f3f\", \"#f3ea5f\"]\n",
    "\n",
    "cl_1_pms"
   ]
  },
  {
   "cell_type": "code",
   "execution_count": 17,
   "metadata": {
    "colab": {
     "base_uri": "https://localhost:8080/",
     "height": 0
    },
    "executionInfo": {
     "elapsed": 741,
     "status": "ok",
     "timestamp": 1675006110559,
     "user": {
      "displayName": "Abied Rabbani",
      "userId": "07382021329668775231"
     },
     "user_tz": -480
    },
    "id": "unjHgDlwWngI",
    "outputId": "11f6451c-a27c-41d5-ff04-0f7012b257cd"
   },
   "outputs": [
    {
     "name": "stdout",
     "output_type": "stream",
     "text": [
      "Frekuensi data cluster0 = 115\n",
      "Frekuensi data cluster1 = 20261\n",
      "Frekuensi data cluster2 = 440\n"
     ]
    },
    {
     "data": {
      "image/png": "[encoded data removed]",
      "text/plain": [
       "<Figure size 576x360 with 1 Axes>"
      ]
     },
     "metadata": {},
     "output_type": "display_data"
    }
   ],
   "source": [
    "fig = plt.figure(figsize=(8, 5))\n",
    "axes = fig.add_subplot()\n",
    "\n",
    "axes = sns.countplot(x='Cluster', data=df_pms, palette=colors)\n",
    "axes.set_title('Frekuensi Data tiap Cluster\\nTerkonfirmasi, Meninggal, Sembuh', fontsize=20, pad=20)\n",
    "axes.set_ylabel('Frekuensi')\n",
    "\n",
    "print(f'Frekuensi data cluster0 = {cl_0_pms.Cluster.count()}')\n",
    "print(f'Frekuensi data cluster1 = {cl_1_pms.Cluster.count()}')\n",
    "print(f'Frekuensi data cluster2 = {cl_2_pms.Cluster.count()}')\n",
    "plt.savefig('/content/gdrive/My Drive/tugas_akhir/frek_pms.png',\n",
    "             dpi=300,\n",
    "             bbox_inches =\"tight\",\n",
    "             pad_inches = 1)\n",
    "\n",
    "plt.show()"
   ]
  },
  {
   "cell_type": "code",
   "execution_count": 18,
   "metadata": {
    "colab": {
     "base_uri": "https://localhost:8080/",
     "height": 0
    },
    "executionInfo": {
     "elapsed": 4495,
     "status": "ok",
     "timestamp": 1675006115045,
     "user": {
      "displayName": "Abied Rabbani",
      "userId": "07382021329668775231"
     },
     "user_tz": -480
    },
    "id": "zGTNyk98X6yM",
    "outputId": "ade022c1-ab39-4ad7-d593-7e3bc84c12d7"
   },
   "outputs": [
    {
     "data": {
      "image/png": "[encoded data removed]",
      "text/plain": [
       "<Figure size 1296x864 with 1 Axes>"
      ]
     },
     "metadata": {},
     "output_type": "display_data"
    }
   ],
   "source": [
    "fig = plt.figure(figsize=(18, 12))\n",
    "ax = fig.add_subplot(projection='3d')\n",
    "\n",
    "\n",
    "ax.scatter3D(cl_0_pms.Terkonfirmasi, cl_0_pms.Meninggal, cl_0_pms.Sembuh, c='#26b99d', s=20, label='cluster0', alpha=0.5, edgecolor='k', lw=1)\n",
    "ax.scatter3D(cl_1_pms.Terkonfirmasi, cl_1_pms.Meninggal, cl_1_pms.Sembuh, c=\"#ff3f3f\", s=20, label='cluster1', alpha=0.5, edgecolor='k', lw=1)\n",
    "ax.scatter3D(cl_2_pms.Terkonfirmasi, cl_2_pms.Meninggal, cl_2_pms.Sembuh, c=\"#f3ea5f\", s=20, label='cluster2', alpha=0.5, edgecolor='k', lw=1)\n",
    "\n",
    "ax.scatter3D(mod_pms.cluster_centers_[:,0], mod_pms.cluster_centers_[:,1], mod_pms.cluster_centers_[:, 2], marker='o', c=\"#2a2c33\", s=200, label='Centroid', alpha=1, edgecolor='b', lw=2)\n",
    "\n",
    "ax.set_title(\"Deteksi Potensi Covid-19 di Indonesia Melalui \\nTerkonfirmasi, Meninggal, Sembuh\", pad=60, fontsize=20)\n",
    "ax.set_xlabel(\"Terkonfirmasi\", fontsize=16)\n",
    "ax.set_ylabel(\"Meninggal\", fontsize=16)\n",
    "ax.set_zlabel(\"Sembuh\", fontsize=16)\n",
    "plt.savefig('/content/gdrive/My Drive/tugas_akhir/pola_pms.png',\n",
    "             dpi=300,\n",
    "             bbox_inches =\"tight\",\n",
    "             pad_inches = 1)\n",
    "\n",
    "ax.legend()\n",
    "\n",
    "plt.show()"
   ]
  },
  {
   "cell_type": "code",
   "execution_count": 19,
   "metadata": {
    "colab": {
     "base_uri": "https://localhost:8080/"
    },
    "executionInfo": {
     "elapsed": 9,
     "status": "ok",
     "timestamp": 1675006115046,
     "user": {
      "displayName": "Abied Rabbani",
      "userId": "07382021329668775231"
     },
     "user_tz": -480
    },
    "id": "ViozuPB6aTuR",
    "outputId": "06e70d44-337b-4fb4-b24a-637fe1ccafb1"
   },
   "outputs": [
    {
     "data": {
      "text/plain": [
       "array([[3.92484420e+06, 1.25268957e+05, 3.58453381e+06],\n",
       "       [3.38816806e+04, 1.17362687e+03, 2.93511842e+04],\n",
       "       [1.09880561e+06, 2.62140909e+04, 9.92694466e+05]])"
      ]
     },
     "execution_count": 19,
     "metadata": {},
     "output_type": "execute_result"
    }
   ],
   "source": [
    "mod_pms.cluster_centers_"
   ]
  },
  {
   "cell_type": "code",
   "execution_count": 20,
   "metadata": {
    "colab": {
     "base_uri": "https://localhost:8080/"
    },
    "executionInfo": {
     "elapsed": 7,
     "status": "ok",
     "timestamp": 1675006115046,
     "user": {
      "displayName": "Abied Rabbani",
      "userId": "07382021329668775231"
     },
     "user_tz": -480
    },
    "id": "bxiVgWVoaf-O",
    "outputId": "b5349167-3b99-43ae-90e4-f6094c0a807a"
   },
   "outputs": [
    {
     "name": "stdout",
     "output_type": "stream",
     "text": [
      "Jarak Centroid (c0,c1): 5272031.152412145\n",
      "Jarak Centroid (c0,c2): 3835875.015799394\n",
      "Jarak Centroid (c1,c2): 1436217.35349534\n"
     ]
    }
   ],
   "source": [
    "c0_pms = mod_pms.cluster_centers_[0]\n",
    "c1_pms = mod_pms.cluster_centers_[1]\n",
    "c2_pms = mod_pms.cluster_centers_[2]\n",
    "\n",
    "dist_c0c1 = distance.euclidean(c0_pms, c1_pms)\n",
    "dist_c0c2 = distance.euclidean(c0_pms, c2_pms)\n",
    "dist_c1c2 = distance.euclidean(c1_pms, c2_pms)\n",
    "\n",
    "print(f'Jarak Centroid (c0,c1): {dist_c0c1}\\nJarak Centroid (c0,c2): {dist_c0c2}\\nJarak Centroid (c1,c2): {dist_c1c2}')"
   ]
  },
  {
   "cell_type": "code",
   "execution_count": 21,
   "metadata": {
    "colab": {
     "base_uri": "https://localhost:8080/",
     "height": 0
    },
    "executionInfo": {
     "elapsed": 14491,
     "status": "ok",
     "timestamp": 1675006129531,
     "user": {
      "displayName": "Abied Rabbani",
      "userId": "07382021329668775231"
     },
     "user_tz": -480
    },
    "id": "Qin9RuBJbf7a",
    "outputId": "aa4061dd-91c0-4595-f22f-f7a1afadf1db"
   },
   "outputs": [
    {
     "name": "stdout",
     "output_type": "stream",
     "text": [
      "Hasil Silhoutte Score 0.93587440944108\n",
      "\n"
     ]
    },
    {
     "data": {
      "image/png": "[encoded data removed]",
      "text/plain": [
       "<Figure size 1296x504 with 1 Axes>"
      ]
     },
     "metadata": {},
     "output_type": "display_data"
    }
   ],
   "source": [
    "fig, axes = plt.subplots()\n",
    "fig.set_size_inches(18,7)\n",
    "\n",
    "axes.set_xlim([-0.1, 1])\n",
    "axes.set_ylim([0, len(df_pms) + (3 + 1) * 10])\n",
    "\n",
    "silavg_pms = silhouette_score(df_pms[['Terkonfirmasi','Meninggal','Sembuh']].values, label_pms)\n",
    "\n",
    "print(f'Hasil Silhoutte Score {silavg_pms}')\n",
    "print('')\n",
    "\n",
    "sample_sil_pms = silhouette_samples(df_pms[['Terkonfirmasi','Meninggal','Sembuh']].values, label_pms)\n",
    "\n",
    "y_lower = 10\n",
    "\n",
    "for i in range(3):\n",
    "  sample_silhoutte_label = sample_sil_pms[label_pms == i]\n",
    "  sample_silhoutte_label.sort()\n",
    "  size_cluster_i = sample_silhoutte_label.shape[0]\n",
    "  y_upper = y_lower + size_cluster_i\n",
    "  color = cm.nipy_spectral(float(i)/3)\n",
    "\n",
    "  axes.fill_betweenx(np.arange(y_lower, y_upper), 0, sample_silhoutte_label, facecolor=color, edgecolor=color, alpha=0.7)\n",
    "  axes.text(-0.05, y_lower + 0.5 * size_cluster_i, str(i))\n",
    "  y_lower = y_upper + 10\n",
    "\n",
    "axes.set_title(\"Index Silhoutte pada tiap Cluster\\nTerkonfirmasi, Meninggal, Sembuh\", fontsize=20, pad=20)\n",
    "axes.set_xlabel(\"Nilai Silhoutte Coeficent\")\n",
    "axes.set_ylabel(\"Cluster label\")\n",
    "\n",
    "axes.axvline(x=silavg_pms, color=\"red\", linestyle=\"--\")\n",
    "axes.set_yticks([])\n",
    "axes.set_xticks([-0.1, 0, 0.2, 0.4, 0.6, 0.8, 1])\n",
    "plt.savefig('/content/gdrive/My Drive/tugas_akhir/silhouette_pms.png',\n",
    "             dpi=300,\n",
    "             bbox_inches =\"tight\",\n",
    "             pad_inches = 1)\n",
    "\n",
    "plt.show()"
   ]
  },
  {
   "cell_type": "code",
   "execution_count": 22,
   "metadata": {
    "colab": {
     "base_uri": "https://localhost:8080/"
    },
    "executionInfo": {
     "elapsed": 21,
     "status": "ok",
     "timestamp": 1675006129537,
     "user": {
      "displayName": "Abied Rabbani",
      "userId": "07382021329668775231"
     },
     "user_tz": -480
    },
    "id": "KDuFJIwsc3Pw",
    "outputId": "45d9b004-1b3d-4039-e23e-42660c0ef8b7"
   },
   "outputs": [
    {
     "name": "stdout",
     "output_type": "stream",
     "text": [
      "Range nilai silhoutte: 0.0039034768510575303, 0.9716019744735641\n",
      "\n",
      "nilai silhoutte cluster 0 = 0.7657529043048692\n",
      "nilai silhoutte cluster 1 = 0.9466414639546211\n",
      "nilai silhoutte cluster 2 = 0.4845395948770119\n",
      "\n",
      "Range nilai silhoutte pada cluster 0 = 0.018447812855798294, 0.8710714967377012\n",
      "Range nilai silhoutte pada cluster 1 = 0.013213808987994697, 0.9716019744735641\n",
      "Range nilai silhoutte pada cluster 2 = 0.0039034768510575303, 0.6256580004184776\n"
     ]
    }
   ],
   "source": [
    "max_pms_0, min_pms_0 = np.max(sample_sil_pms[label_pms==0]), np.min(sample_sil_pms[label_pms==0])\n",
    "max_pms_1, min_pms_1 = np.max(sample_sil_pms[label_pms==1]), np.min(sample_sil_pms[label_pms==1])\n",
    "max_pms_2, min_pms_2 = np.max(sample_sil_pms[label_pms==2]), np.min(sample_sil_pms[label_pms==2])\n",
    "\n",
    "print(f'Range nilai silhoutte: {np.min(sample_sil_pms)}, {np.max(sample_sil_pms)}')\n",
    "print(\"\")\n",
    "print(f'nilai silhoutte cluster 0 = {np.average(sample_sil_pms[label_pms==0])}')\n",
    "print(f'nilai silhoutte cluster 1 = {np.average(sample_sil_pms[label_pms==1])}')\n",
    "print(f'nilai silhoutte cluster 2 = {np.average(sample_sil_pms[label_pms==2])}')\n",
    "print(\"\")\n",
    "print(f'Range nilai silhoutte pada cluster 0 = {min_pms_0}, {max_pms_0}')\n",
    "print(f'Range nilai silhoutte pada cluster 1 = {min_pms_1}, {max_pms_1}')\n",
    "print(f'Range nilai silhoutte pada cluster 2 = {min_pms_2}, {max_pms_2}')"
   ]
  },
  {
   "cell_type": "markdown",
   "metadata": {
    "id": "3dTXV1yiQmLM"
   },
   "source": [
    "# Cluster Positif dan Meninggal\n"
   ]
  },
  {
   "cell_type": "code",
   "execution_count": 23,
   "metadata": {
    "colab": {
     "base_uri": "https://localhost:8080/",
     "height": 206
    },
    "executionInfo": {
     "elapsed": 17,
     "status": "ok",
     "timestamp": 1675006129537,
     "user": {
      "displayName": "Abied Rabbani",
      "userId": "07382021329668775231"
     },
     "user_tz": -480
    },
    "id": "YdS3hV_4Qu_9",
    "outputId": "bc0d1ec2-2fa1-4742-93b3-cd99d40748a6"
   },
   "outputs": [
    {
     "data": {
      "text/html": [
       "\n",
       "  <div id=\"df-a54e1c09-a98d-4671-90da-b47deaa8e151\">\n",
       "    <div class=\"colab-df-container\">\n",
       "      <div>\n",
       "<style scoped>\n",
       "    .dataframe tbody tr th:only-of-type {\n",
       "        vertical-align: middle;\n",
       "    }\n",
       "\n",
       "    .dataframe tbody tr th {\n",
       "        vertical-align: top;\n",
       "    }\n",
       "\n",
       "    .dataframe thead th {\n",
       "        text-align: right;\n",
       "    }\n",
       "</style>\n",
       "<table border=\"1\" class=\"dataframe\">\n",
       "  <thead>\n",
       "    <tr style=\"text-align: right;\">\n",
       "      <th></th>\n",
       "      <th>Date</th>\n",
       "      <th>Location</th>\n",
       "      <th>Total Cases</th>\n",
       "      <th>Total Deaths</th>\n",
       "    </tr>\n",
       "  </thead>\n",
       "  <tbody>\n",
       "    <tr>\n",
       "      <th>0</th>\n",
       "      <td>3/1/2020</td>\n",
       "      <td>DKI Jakarta</td>\n",
       "      <td>39</td>\n",
       "      <td>20</td>\n",
       "    </tr>\n",
       "    <tr>\n",
       "      <th>1</th>\n",
       "      <td>3/2/2020</td>\n",
       "      <td>DKI Jakarta</td>\n",
       "      <td>41</td>\n",
       "      <td>20</td>\n",
       "    </tr>\n",
       "    <tr>\n",
       "      <th>2</th>\n",
       "      <td>3/2/2020</td>\n",
       "      <td>Indonesia</td>\n",
       "      <td>2</td>\n",
       "      <td>0</td>\n",
       "    </tr>\n",
       "    <tr>\n",
       "      <th>3</th>\n",
       "      <td>3/2/2020</td>\n",
       "      <td>Riau</td>\n",
       "      <td>2</td>\n",
       "      <td>0</td>\n",
       "    </tr>\n",
       "    <tr>\n",
       "      <th>4</th>\n",
       "      <td>3/3/2020</td>\n",
       "      <td>DKI Jakarta</td>\n",
       "      <td>43</td>\n",
       "      <td>20</td>\n",
       "    </tr>\n",
       "  </tbody>\n",
       "</table>\n",
       "</div>\n",
       "      <button class=\"colab-df-convert\" onclick=\"convertToInteractive('df-a54e1c09-a98d-4671-90da-b47deaa8e151')\"\n",
       "              title=\"Convert this dataframe to an interactive table.\"\n",
       "              style=\"display:none;\">\n",
       "        \n",
       "  <svg xmlns=\"http://www.w3.org/2000/svg\" height=\"24px\"viewBox=\"0 0 24 24\"\n",
       "       width=\"24px\">\n",
       "    <path d=\"M0 0h24v24H0V0z\" fill=\"none\"/>\n",
       "    <path d=\"M18.56 5.44l.94 2.06.94-2.06 2.06-.94-2.06-.94-.94-2.06-.94 2.06-2.06.94zm-11 1L8.5 8.5l.94-2.06 2.06-.94-2.06-.94L8.5 2.5l-.94 2.06-2.06.94zm10 10l.94 2.06.94-2.06 2.06-.94-2.06-.94-.94-2.06-.94 2.06-2.06.94z\"/><path d=\"M17.41 7.96l-1.37-1.37c-.4-.4-.92-.59-1.43-.59-.52 0-1.04.2-1.43.59L10.3 9.45l-7.72 7.72c-.78.78-.78 2.05 0 2.83L4 21.41c.39.39.9.59 1.41.59.51 0 1.02-.2 1.41-.59l7.78-7.78 2.81-2.81c.8-.78.8-2.07 0-2.86zM5.41 20L4 18.59l7.72-7.72 1.47 1.35L5.41 20z\"/>\n",
       "  </svg>\n",
       "      </button>\n",
       "      \n",
       "  <style>\n",
       "    .colab-df-container {\n",
       "      display:flex;\n",
       "      flex-wrap:wrap;\n",
       "      gap: 12px;\n",
       "    }\n",
       "\n",
       "    .colab-df-convert {\n",
       "      background-color: #E8F0FE;\n",
       "      border: none;\n",
       "      border-radius: 50%;\n",
       "      cursor: pointer;\n",
       "      display: none;\n",
       "      fill: #1967D2;\n",
       "      height: 32px;\n",
       "      padding: 0 0 0 0;\n",
       "      width: 32px;\n",
       "    }\n",
       "\n",
       "    .colab-df-convert:hover {\n",
       "      background-color: #E2EBFA;\n",
       "      box-shadow: 0px 1px 2px rgba(60, 64, 67, 0.3), 0px 1px 3px 1px rgba(60, 64, 67, 0.15);\n",
       "      fill: #174EA6;\n",
       "    }\n",
       "\n",
       "    [theme=dark] .colab-df-convert {\n",
       "      background-color: #3B4455;\n",
       "      fill: #D2E3FC;\n",
       "    }\n",
       "\n",
       "    [theme=dark] .colab-df-convert:hover {\n",
       "      background-color: #434B5C;\n",
       "      box-shadow: 0px 1px 3px 1px rgba(0, 0, 0, 0.15);\n",
       "      filter: drop-shadow(0px 1px 2px rgba(0, 0, 0, 0.3));\n",
       "      fill: #FFFFFF;\n",
       "    }\n",
       "  </style>\n",
       "\n",
       "      <script>\n",
       "        const buttonEl =\n",
       "          document.querySelector('#df-a54e1c09-a98d-4671-90da-b47deaa8e151 button.colab-df-convert');\n",
       "        buttonEl.style.display =\n",
       "          google.colab.kernel.accessAllowed ? 'block' : 'none';\n",
       "\n",
       "        async function convertToInteractive(key) {\n",
       "          const element = document.querySelector('#df-a54e1c09-a98d-4671-90da-b47deaa8e151');\n",
       "          const dataTable =\n",
       "            await google.colab.kernel.invokeFunction('convertToInteractive',\n",
       "                                                     [key], {});\n",
       "          if (!dataTable) return;\n",
       "\n",
       "          const docLinkHtml = 'Like what you see? Visit the ' +\n",
       "            '<a target=\"_blank\" href=https://colab.research.google.com/notebooks/data_table.ipynb>data table notebook</a>'\n",
       "            + ' to learn more about interactive tables.';\n",
       "          element.innerHTML = '';\n",
       "          dataTable['output_type'] = 'display_data';\n",
       "          await google.colab.output.renderOutput(dataTable, element);\n",
       "          const docLink = document.createElement('div');\n",
       "          docLink.innerHTML = docLinkHtml;\n",
       "          element.appendChild(docLink);\n",
       "        }\n",
       "      </script>\n",
       "    </div>\n",
       "  </div>\n",
       "  "
      ],
      "text/plain": [
       "       Date     Location  Total Cases  Total Deaths\n",
       "0  3/1/2020  DKI Jakarta           39            20\n",
       "1  3/2/2020  DKI Jakarta           41            20\n",
       "2  3/2/2020    Indonesia            2             0\n",
       "3  3/2/2020         Riau            2             0\n",
       "4  3/3/2020  DKI Jakarta           43            20"
      ]
     },
     "execution_count": 23,
     "metadata": {},
     "output_type": "execute_result"
    }
   ],
   "source": [
    "df_pm = df[['Date','Location','Total Cases','Total Deaths']].copy()\n",
    "df_pm.head()"
   ]
  },
  {
   "cell_type": "code",
   "execution_count": 24,
   "metadata": {
    "colab": {
     "base_uri": "https://localhost:8080/",
     "height": 206
    },
    "executionInfo": {
     "elapsed": 17,
     "status": "ok",
     "timestamp": 1675006129538,
     "user": {
      "displayName": "Abied Rabbani",
      "userId": "07382021329668775231"
     },
     "user_tz": -480
    },
    "id": "mEHcmz4iQ-Uz",
    "outputId": "78189f12-8e3d-48d2-88ee-8cd664476dfd"
   },
   "outputs": [
    {
     "data": {
      "text/html": [
       "\n",
       "  <div id=\"df-f2906411-7142-486a-893e-098e70d4bd54\">\n",
       "    <div class=\"colab-df-container\">\n",
       "      <div>\n",
       "<style scoped>\n",
       "    .dataframe tbody tr th:only-of-type {\n",
       "        vertical-align: middle;\n",
       "    }\n",
       "\n",
       "    .dataframe tbody tr th {\n",
       "        vertical-align: top;\n",
       "    }\n",
       "\n",
       "    .dataframe thead th {\n",
       "        text-align: right;\n",
       "    }\n",
       "</style>\n",
       "<table border=\"1\" class=\"dataframe\">\n",
       "  <thead>\n",
       "    <tr style=\"text-align: right;\">\n",
       "      <th></th>\n",
       "      <th>Tanggal</th>\n",
       "      <th>Lokasi</th>\n",
       "      <th>Terkonfirmasi</th>\n",
       "      <th>Meninggal</th>\n",
       "    </tr>\n",
       "  </thead>\n",
       "  <tbody>\n",
       "    <tr>\n",
       "      <th>0</th>\n",
       "      <td>3/1/2020</td>\n",
       "      <td>DKI Jakarta</td>\n",
       "      <td>39</td>\n",
       "      <td>20</td>\n",
       "    </tr>\n",
       "    <tr>\n",
       "      <th>1</th>\n",
       "      <td>3/2/2020</td>\n",
       "      <td>DKI Jakarta</td>\n",
       "      <td>41</td>\n",
       "      <td>20</td>\n",
       "    </tr>\n",
       "    <tr>\n",
       "      <th>2</th>\n",
       "      <td>3/2/2020</td>\n",
       "      <td>Indonesia</td>\n",
       "      <td>2</td>\n",
       "      <td>0</td>\n",
       "    </tr>\n",
       "    <tr>\n",
       "      <th>3</th>\n",
       "      <td>3/2/2020</td>\n",
       "      <td>Riau</td>\n",
       "      <td>2</td>\n",
       "      <td>0</td>\n",
       "    </tr>\n",
       "    <tr>\n",
       "      <th>4</th>\n",
       "      <td>3/3/2020</td>\n",
       "      <td>DKI Jakarta</td>\n",
       "      <td>43</td>\n",
       "      <td>20</td>\n",
       "    </tr>\n",
       "  </tbody>\n",
       "</table>\n",
       "</div>\n",
       "      <button class=\"colab-df-convert\" onclick=\"convertToInteractive('df-f2906411-7142-486a-893e-098e70d4bd54')\"\n",
       "              title=\"Convert this dataframe to an interactive table.\"\n",
       "              style=\"display:none;\">\n",
       "        \n",
       "  <svg xmlns=\"http://www.w3.org/2000/svg\" height=\"24px\"viewBox=\"0 0 24 24\"\n",
       "       width=\"24px\">\n",
       "    <path d=\"M0 0h24v24H0V0z\" fill=\"none\"/>\n",
       "    <path d=\"M18.56 5.44l.94 2.06.94-2.06 2.06-.94-2.06-.94-.94-2.06-.94 2.06-2.06.94zm-11 1L8.5 8.5l.94-2.06 2.06-.94-2.06-.94L8.5 2.5l-.94 2.06-2.06.94zm10 10l.94 2.06.94-2.06 2.06-.94-2.06-.94-.94-2.06-.94 2.06-2.06.94z\"/><path d=\"M17.41 7.96l-1.37-1.37c-.4-.4-.92-.59-1.43-.59-.52 0-1.04.2-1.43.59L10.3 9.45l-7.72 7.72c-.78.78-.78 2.05 0 2.83L4 21.41c.39.39.9.59 1.41.59.51 0 1.02-.2 1.41-.59l7.78-7.78 2.81-2.81c.8-.78.8-2.07 0-2.86zM5.41 20L4 18.59l7.72-7.72 1.47 1.35L5.41 20z\"/>\n",
       "  </svg>\n",
       "      </button>\n",
       "      \n",
       "  <style>\n",
       "    .colab-df-container {\n",
       "      display:flex;\n",
       "      flex-wrap:wrap;\n",
       "      gap: 12px;\n",
       "    }\n",
       "\n",
       "    .colab-df-convert {\n",
       "      background-color: #E8F0FE;\n",
       "      border: none;\n",
       "      border-radius: 50%;\n",
       "      cursor: pointer;\n",
       "      display: none;\n",
       "      fill: #1967D2;\n",
       "      height: 32px;\n",
       "      padding: 0 0 0 0;\n",
       "      width: 32px;\n",
       "    }\n",
       "\n",
       "    .colab-df-convert:hover {\n",
       "      background-color: #E2EBFA;\n",
       "      box-shadow: 0px 1px 2px rgba(60, 64, 67, 0.3), 0px 1px 3px 1px rgba(60, 64, 67, 0.15);\n",
       "      fill: #174EA6;\n",
       "    }\n",
       "\n",
       "    [theme=dark] .colab-df-convert {\n",
       "      background-color: #3B4455;\n",
       "      fill: #D2E3FC;\n",
       "    }\n",
       "\n",
       "    [theme=dark] .colab-df-convert:hover {\n",
       "      background-color: #434B5C;\n",
       "      box-shadow: 0px 1px 3px 1px rgba(0, 0, 0, 0.15);\n",
       "      filter: drop-shadow(0px 1px 2px rgba(0, 0, 0, 0.3));\n",
       "      fill: #FFFFFF;\n",
       "    }\n",
       "  </style>\n",
       "\n",
       "      <script>\n",
       "        const buttonEl =\n",
       "          document.querySelector('#df-f2906411-7142-486a-893e-098e70d4bd54 button.colab-df-convert');\n",
       "        buttonEl.style.display =\n",
       "          google.colab.kernel.accessAllowed ? 'block' : 'none';\n",
       "\n",
       "        async function convertToInteractive(key) {\n",
       "          const element = document.querySelector('#df-f2906411-7142-486a-893e-098e70d4bd54');\n",
       "          const dataTable =\n",
       "            await google.colab.kernel.invokeFunction('convertToInteractive',\n",
       "                                                     [key], {});\n",
       "          if (!dataTable) return;\n",
       "\n",
       "          const docLinkHtml = 'Like what you see? Visit the ' +\n",
       "            '<a target=\"_blank\" href=https://colab.research.google.com/notebooks/data_table.ipynb>data table notebook</a>'\n",
       "            + ' to learn more about interactive tables.';\n",
       "          element.innerHTML = '';\n",
       "          dataTable['output_type'] = 'display_data';\n",
       "          await google.colab.output.renderOutput(dataTable, element);\n",
       "          const docLink = document.createElement('div');\n",
       "          docLink.innerHTML = docLinkHtml;\n",
       "          element.appendChild(docLink);\n",
       "        }\n",
       "      </script>\n",
       "    </div>\n",
       "  </div>\n",
       "  "
      ],
      "text/plain": [
       "    Tanggal       Lokasi  Terkonfirmasi  Meninggal\n",
       "0  3/1/2020  DKI Jakarta             39         20\n",
       "1  3/2/2020  DKI Jakarta             41         20\n",
       "2  3/2/2020    Indonesia              2          0\n",
       "3  3/2/2020         Riau              2          0\n",
       "4  3/3/2020  DKI Jakarta             43         20"
      ]
     },
     "execution_count": 24,
     "metadata": {},
     "output_type": "execute_result"
    }
   ],
   "source": [
    "df_pm = df_pm.rename(columns={'Date':'Tanggal','Location':'Lokasi','Total Cases':'Terkonfirmasi','Total Deaths':'Meninggal'})\n",
    "df_pm.head()"
   ]
  },
  {
   "cell_type": "code",
   "execution_count": 25,
   "metadata": {
    "colab": {
     "base_uri": "https://localhost:8080/",
     "height": 206
    },
    "executionInfo": {
     "elapsed": 16,
     "status": "ok",
     "timestamp": 1675006129538,
     "user": {
      "displayName": "Abied Rabbani",
      "userId": "07382021329668775231"
     },
     "user_tz": -480
    },
    "id": "34fR39VyRGHc",
    "outputId": "45742615-b7e3-4bd8-c752-760ed8b59a1a"
   },
   "outputs": [
    {
     "data": {
      "text/html": [
       "\n",
       "  <div id=\"df-b7e7bc1d-7da7-4619-961a-fffdfb490aa9\">\n",
       "    <div class=\"colab-df-container\">\n",
       "      <div>\n",
       "<style scoped>\n",
       "    .dataframe tbody tr th:only-of-type {\n",
       "        vertical-align: middle;\n",
       "    }\n",
       "\n",
       "    .dataframe tbody tr th {\n",
       "        vertical-align: top;\n",
       "    }\n",
       "\n",
       "    .dataframe thead th {\n",
       "        text-align: right;\n",
       "    }\n",
       "</style>\n",
       "<table border=\"1\" class=\"dataframe\">\n",
       "  <thead>\n",
       "    <tr style=\"text-align: right;\">\n",
       "      <th></th>\n",
       "      <th>Tanggal</th>\n",
       "      <th>Lokasi</th>\n",
       "      <th>Terkonfirmasi</th>\n",
       "      <th>Meninggal</th>\n",
       "      <th>Cluster</th>\n",
       "    </tr>\n",
       "  </thead>\n",
       "  <tbody>\n",
       "    <tr>\n",
       "      <th>0</th>\n",
       "      <td>3/1/2020</td>\n",
       "      <td>DKI Jakarta</td>\n",
       "      <td>39</td>\n",
       "      <td>20</td>\n",
       "      <td>1</td>\n",
       "    </tr>\n",
       "    <tr>\n",
       "      <th>1</th>\n",
       "      <td>3/2/2020</td>\n",
       "      <td>DKI Jakarta</td>\n",
       "      <td>41</td>\n",
       "      <td>20</td>\n",
       "      <td>1</td>\n",
       "    </tr>\n",
       "    <tr>\n",
       "      <th>2</th>\n",
       "      <td>3/2/2020</td>\n",
       "      <td>Indonesia</td>\n",
       "      <td>2</td>\n",
       "      <td>0</td>\n",
       "      <td>1</td>\n",
       "    </tr>\n",
       "    <tr>\n",
       "      <th>3</th>\n",
       "      <td>3/2/2020</td>\n",
       "      <td>Riau</td>\n",
       "      <td>2</td>\n",
       "      <td>0</td>\n",
       "      <td>1</td>\n",
       "    </tr>\n",
       "    <tr>\n",
       "      <th>4</th>\n",
       "      <td>3/3/2020</td>\n",
       "      <td>DKI Jakarta</td>\n",
       "      <td>43</td>\n",
       "      <td>20</td>\n",
       "      <td>1</td>\n",
       "    </tr>\n",
       "  </tbody>\n",
       "</table>\n",
       "</div>\n",
       "      <button class=\"colab-df-convert\" onclick=\"convertToInteractive('df-b7e7bc1d-7da7-4619-961a-fffdfb490aa9')\"\n",
       "              title=\"Convert this dataframe to an interactive table.\"\n",
       "              style=\"display:none;\">\n",
       "        \n",
       "  <svg xmlns=\"http://www.w3.org/2000/svg\" height=\"24px\"viewBox=\"0 0 24 24\"\n",
       "       width=\"24px\">\n",
       "    <path d=\"M0 0h24v24H0V0z\" fill=\"none\"/>\n",
       "    <path d=\"M18.56 5.44l.94 2.06.94-2.06 2.06-.94-2.06-.94-.94-2.06-.94 2.06-2.06.94zm-11 1L8.5 8.5l.94-2.06 2.06-.94-2.06-.94L8.5 2.5l-.94 2.06-2.06.94zm10 10l.94 2.06.94-2.06 2.06-.94-2.06-.94-.94-2.06-.94 2.06-2.06.94z\"/><path d=\"M17.41 7.96l-1.37-1.37c-.4-.4-.92-.59-1.43-.59-.52 0-1.04.2-1.43.59L10.3 9.45l-7.72 7.72c-.78.78-.78 2.05 0 2.83L4 21.41c.39.39.9.59 1.41.59.51 0 1.02-.2 1.41-.59l7.78-7.78 2.81-2.81c.8-.78.8-2.07 0-2.86zM5.41 20L4 18.59l7.72-7.72 1.47 1.35L5.41 20z\"/>\n",
       "  </svg>\n",
       "      </button>\n",
       "      \n",
       "  <style>\n",
       "    .colab-df-container {\n",
       "      display:flex;\n",
       "      flex-wrap:wrap;\n",
       "      gap: 12px;\n",
       "    }\n",
       "\n",
       "    .colab-df-convert {\n",
       "      background-color: #E8F0FE;\n",
       "      border: none;\n",
       "      border-radius: 50%;\n",
       "      cursor: pointer;\n",
       "      display: none;\n",
       "      fill: #1967D2;\n",
       "      height: 32px;\n",
       "      padding: 0 0 0 0;\n",
       "      width: 32px;\n",
       "    }\n",
       "\n",
       "    .colab-df-convert:hover {\n",
       "      background-color: #E2EBFA;\n",
       "      box-shadow: 0px 1px 2px rgba(60, 64, 67, 0.3), 0px 1px 3px 1px rgba(60, 64, 67, 0.15);\n",
       "      fill: #174EA6;\n",
       "    }\n",
       "\n",
       "    [theme=dark] .colab-df-convert {\n",
       "      background-color: #3B4455;\n",
       "      fill: #D2E3FC;\n",
       "    }\n",
       "\n",
       "    [theme=dark] .colab-df-convert:hover {\n",
       "      background-color: #434B5C;\n",
       "      box-shadow: 0px 1px 3px 1px rgba(0, 0, 0, 0.15);\n",
       "      filter: drop-shadow(0px 1px 2px rgba(0, 0, 0, 0.3));\n",
       "      fill: #FFFFFF;\n",
       "    }\n",
       "  </style>\n",
       "\n",
       "      <script>\n",
       "        const buttonEl =\n",
       "          document.querySelector('#df-b7e7bc1d-7da7-4619-961a-fffdfb490aa9 button.colab-df-convert');\n",
       "        buttonEl.style.display =\n",
       "          google.colab.kernel.accessAllowed ? 'block' : 'none';\n",
       "\n",
       "        async function convertToInteractive(key) {\n",
       "          const element = document.querySelector('#df-b7e7bc1d-7da7-4619-961a-fffdfb490aa9');\n",
       "          const dataTable =\n",
       "            await google.colab.kernel.invokeFunction('convertToInteractive',\n",
       "                                                     [key], {});\n",
       "          if (!dataTable) return;\n",
       "\n",
       "          const docLinkHtml = 'Like what you see? Visit the ' +\n",
       "            '<a target=\"_blank\" href=https://colab.research.google.com/notebooks/data_table.ipynb>data table notebook</a>'\n",
       "            + ' to learn more about interactive tables.';\n",
       "          element.innerHTML = '';\n",
       "          dataTable['output_type'] = 'display_data';\n",
       "          await google.colab.output.renderOutput(dataTable, element);\n",
       "          const docLink = document.createElement('div');\n",
       "          docLink.innerHTML = docLinkHtml;\n",
       "          element.appendChild(docLink);\n",
       "        }\n",
       "      </script>\n",
       "    </div>\n",
       "  </div>\n",
       "  "
      ],
      "text/plain": [
       "    Tanggal       Lokasi  Terkonfirmasi  Meninggal  Cluster\n",
       "0  3/1/2020  DKI Jakarta             39         20        1\n",
       "1  3/2/2020  DKI Jakarta             41         20        1\n",
       "2  3/2/2020    Indonesia              2          0        1\n",
       "3  3/2/2020         Riau              2          0        1\n",
       "4  3/3/2020  DKI Jakarta             43         20        1"
      ]
     },
     "execution_count": 25,
     "metadata": {},
     "output_type": "execute_result"
    }
   ],
   "source": [
    "mod_pm = KMeans(n_clusters=3, init='random', n_init=2, random_state=1)\n",
    "label_pm = mod_pm.fit_predict(df_pm[['Terkonfirmasi','Meninggal']].values)\n",
    "\n",
    "df_pm['Cluster'] = label_pm\n",
    "\n",
    "\n",
    "df_pm.head()"
   ]
  },
  {
   "cell_type": "code",
   "execution_count": 26,
   "metadata": {
    "colab": {
     "base_uri": "https://localhost:8080/"
    },
    "executionInfo": {
     "elapsed": 15,
     "status": "ok",
     "timestamp": 1675006129538,
     "user": {
      "displayName": "Abied Rabbani",
      "userId": "07382021329668775231"
     },
     "user_tz": -480
    },
    "id": "7pJvPS2_RQa_",
    "outputId": "a27b9cda-f7d8-405d-c887-03bdffe40f0c"
   },
   "outputs": [
    {
     "name": "stdout",
     "output_type": "stream",
     "text": [
      "Jumlah iterasi pada proses training K-Means : 17\n"
     ]
    }
   ],
   "source": [
    "print(f'Jumlah iterasi pada proses training K-Means : {mod_pm.n_iter_}')"
   ]
  },
  {
   "cell_type": "code",
   "execution_count": 27,
   "metadata": {
    "colab": {
     "base_uri": "https://localhost:8080/",
     "height": 0,
     "output_embedded_package_id": "1u-UVkh3K2Xwncl76vhthN9xY_eymAegC"
    },
    "executionInfo": {
     "elapsed": 5779,
     "status": "ok",
     "timestamp": 1675006135304,
     "user": {
      "displayName": "Abied Rabbani",
      "userId": "07382021329668775231"
     },
     "user_tz": -480
    },
    "id": "I95jkZucRXxu",
    "outputId": "0135591f-cae5-4f36-e851-f01239968762"
   },
   "outputs": [
    {
     "data": {
      "text/plain": [
       "Output hidden; open in https://colab.research.google.com to view."
      ]
     },
     "metadata": {},
     "output_type": "display_data"
    }
   ],
   "source": [
    "cl_0_pm = df_pm[df_pm.Cluster == 0]\n",
    "cl_1_pm = df_pm[df_pm.Cluster == 1]\n",
    "cl_2_pm = df_pm[df_pm.Cluster == 2]\n",
    "\n",
    "colors = [\"#26b99d\", \"#ff3f3f\", \"#f3ea5f\"]\n",
    "\n",
    "cl_1_pm"
   ]
  },
  {
   "cell_type": "code",
   "execution_count": 28,
   "metadata": {
    "colab": {
     "base_uri": "https://localhost:8080/",
     "height": 448
    },
    "executionInfo": {
     "elapsed": 430,
     "status": "ok",
     "timestamp": 1675006135719,
     "user": {
      "displayName": "Abied Rabbani",
      "userId": "07382021329668775231"
     },
     "user_tz": -480
    },
    "id": "Sxr5miJ8S_cD",
    "outputId": "92ebfc76-6f83-4b9a-c9c7-7dad7c6ccc7e"
   },
   "outputs": [
    {
     "name": "stdout",
     "output_type": "stream",
     "text": [
      "Frekuensi data cluster0 = 119\n",
      "Frekuensi data cluster1 = 20242\n",
      "Frekuensi data cluster2 = 455\n"
     ]
    },
    {
     "data": {
      "image/png": "[encoded data removed]",
      "text/plain": [
       "<Figure size 576x360 with 1 Axes>"
      ]
     },
     "metadata": {},
     "output_type": "display_data"
    }
   ],
   "source": [
    "fig = plt.figure(figsize=(8, 5))\n",
    "axes = fig.add_subplot()\n",
    "\n",
    "axes = sns.countplot(x='Cluster', data=df_pm, palette=colors)\n",
    "axes.set_title('Frekuensi Data tiap Cluster\\nTerkonfirmasi, Meninggal', fontsize=20, pad=20)\n",
    "axes.set_ylabel('Frekuensi')\n",
    "\n",
    "print(f'Frekuensi data cluster0 = {cl_0_pm.Cluster.count()}')\n",
    "print(f'Frekuensi data cluster1 = {cl_1_pm.Cluster.count()}')\n",
    "print(f'Frekuensi data cluster2 = {cl_2_pm.Cluster.count()}')\n",
    "plt.savefig('/content/gdrive/My Drive/tugas_akhir/frek_pm.png',\n",
    "             dpi=300,\n",
    "             bbox_inches =\"tight\",\n",
    "             pad_inches = 1)\n",
    "\n",
    "plt.show()"
   ]
  },
  {
   "cell_type": "code",
   "execution_count": 29,
   "metadata": {
    "colab": {
     "base_uri": "https://localhost:8080/",
     "height": 819
    },
    "executionInfo": {
     "elapsed": 2074,
     "status": "ok",
     "timestamp": 1675006137789,
     "user": {
      "displayName": "Abied Rabbani",
      "userId": "07382021329668775231"
     },
     "user_tz": -480
    },
    "id": "Tel8hc5aTprP",
    "outputId": "1a4e6e3f-19df-4ee6-b96f-cd2d7b723d66"
   },
   "outputs": [
    {
     "data": {
      "image/png": "[encoded data removed]",
      "text/plain": [
       "<Figure size 1296x864 with 1 Axes>"
      ]
     },
     "metadata": {},
     "output_type": "display_data"
    }
   ],
   "source": [
    "fig = plt.figure(figsize=(18, 12))\n",
    "ax = fig.add_subplot()\n",
    "\n",
    "\n",
    "ax.scatter(cl_0_pm.Terkonfirmasi, cl_0_pm.Meninggal, c='#26b99d', s=20, label='cluster0', alpha=0.5, edgecolor='k', lw=1)\n",
    "ax.scatter(cl_1_pm.Terkonfirmasi, cl_1_pm.Meninggal, c=\"#ff3f3f\", s=20, label='cluster1', alpha=0.5, edgecolor='k', lw=1)\n",
    "ax.scatter(cl_2_pm.Terkonfirmasi, cl_2_pm.Meninggal, c=\"#f3ea5f\", s=20, label='cluster2', alpha=0.5, edgecolor='k', lw=1)\n",
    "\n",
    "ax.scatter(mod_pm.cluster_centers_[:,0], mod_pm.cluster_centers_[:,1], marker='o', c=\"#2a2c33\", s=200, label='Centroid', alpha=1, edgecolor='b', lw=2)\n",
    "\n",
    "ax.set_title(\"Deteksi Potensi Covid-19 di Indonesia Melalui \\nTerkonfirmasi dan Meninggal\", pad=60, fontsize=20)\n",
    "ax.set_xlabel(\"Terkonfirmasi\", fontsize=16)\n",
    "ax.set_ylabel(\"Meninggal\", fontsize=16)\n",
    "plt.savefig('/content/gdrive/My Drive/tugas_akhir/pola_pm.png',\n",
    "             dpi=300,\n",
    "             bbox_inches =\"tight\",\n",
    "             pad_inches = 1)\n",
    "\n",
    "ax.legend()\n",
    "\n",
    "plt.show()\n"
   ]
  },
  {
   "cell_type": "code",
   "execution_count": 30,
   "metadata": {
    "colab": {
     "base_uri": "https://localhost:8080/"
    },
    "executionInfo": {
     "elapsed": 8,
     "status": "ok",
     "timestamp": 1675006137790,
     "user": {
      "displayName": "Abied Rabbani",
      "userId": "07382021329668775231"
     },
     "user_tz": -480
    },
    "id": "KgKav3aGUyLO",
    "outputId": "328a31c3-b3b6-4b82-e71f-a99d61b998b1"
   },
   "outputs": [
    {
     "data": {
      "text/plain": [
       "array([[3.87864245e+06, 1.23306092e+05],\n",
       "       [3.33783211e+04, 1.16357588e+03],\n",
       "       [1.06396892e+06, 2.52581451e+04]])"
      ]
     },
     "execution_count": 30,
     "metadata": {},
     "output_type": "execute_result"
    }
   ],
   "source": [
    "mod_pm.cluster_centers_"
   ]
  },
  {
   "cell_type": "code",
   "execution_count": 31,
   "metadata": {
    "colab": {
     "base_uri": "https://localhost:8080/"
    },
    "executionInfo": {
     "elapsed": 5,
     "status": "ok",
     "timestamp": 1675006137790,
     "user": {
      "displayName": "Abied Rabbani",
      "userId": "07382021329668775231"
     },
     "user_tz": -480
    },
    "id": "MG6kkNX2U7l9",
    "outputId": "220be939-8e5f-4904-c5c1-58beeaea47a4"
   },
   "outputs": [
    {
     "name": "stdout",
     "output_type": "stream",
     "text": [
      "Jarak Centroid (c0,c1): 3847203.5272492864\n",
      "Jarak Centroid (c0,c2): 2816380.7402845956\n",
      "Jarak Centroid (c1,c2): 1030872.2149852032\n"
     ]
    }
   ],
   "source": [
    "c0_pm = mod_pm.cluster_centers_[0]\n",
    "c1_pm = mod_pm.cluster_centers_[1]\n",
    "c2_pm = mod_pm.cluster_centers_[2]\n",
    "\n",
    "dist_c0c1 = distance.euclidean(c0_pm, c1_pm)\n",
    "dist_c0c2 = distance.euclidean(c0_pm, c2_pm)\n",
    "dist_c1c2 = distance.euclidean(c1_pm, c2_pm)\n",
    "\n",
    "print(f'Jarak Centroid (c0,c1): {dist_c0c1}\\nJarak Centroid (c0,c2): {dist_c0c2}\\nJarak Centroid (c1,c2): {dist_c1c2}')"
   ]
  },
  {
   "cell_type": "code",
   "execution_count": 32,
   "metadata": {
    "colab": {
     "base_uri": "https://localhost:8080/",
     "height": 0
    },
    "executionInfo": {
     "elapsed": 13433,
     "status": "ok",
     "timestamp": 1675006151220,
     "user": {
      "displayName": "Abied Rabbani",
      "userId": "07382021329668775231"
     },
     "user_tz": -480
    },
    "id": "NtIJGmIOVUP0",
    "outputId": "b10693eb-df00-46ae-8018-ebbe74abbe75"
   },
   "outputs": [
    {
     "name": "stdout",
     "output_type": "stream",
     "text": [
      "Hasil Silhoutte Score 0.9342897740145775\n",
      "\n"
     ]
    },
    {
     "data": {
      "image/png": "[encoded data removed]",
      "text/plain": [
       "<Figure size 1296x504 with 1 Axes>"
      ]
     },
     "metadata": {},
     "output_type": "display_data"
    }
   ],
   "source": [
    "fig, axes = plt.subplots()\n",
    "fig.set_size_inches(18,7)\n",
    "\n",
    "axes.set_xlim([-0.1, 1])\n",
    "axes.set_ylim([0, len(df_pm) + (3 + 1) * 10])\n",
    "\n",
    "silavg_pm = silhouette_score(df_pm[['Terkonfirmasi','Meninggal']].values, label_pm)\n",
    "\n",
    "print(f'Hasil Silhoutte Score {silavg_pm}')\n",
    "print('')\n",
    "\n",
    "sample_sil_pm = silhouette_samples(df_pm[['Terkonfirmasi','Meninggal']].values, label_pm)\n",
    "\n",
    "y_lower = 10\n",
    "\n",
    "for i in range(3):\n",
    "  sample_silhoutte_label = sample_sil_pm[label_pm == i]\n",
    "  sample_silhoutte_label.sort()\n",
    "  size_cluster_i = sample_silhoutte_label.shape[0]\n",
    "  y_upper = y_lower + size_cluster_i\n",
    "  color = cm.nipy_spectral(float(i)/3)\n",
    "\n",
    "  axes.fill_betweenx(np.arange(y_lower, y_upper), 0, sample_silhoutte_label, facecolor=color, edgecolor=color, alpha=0.7)\n",
    "  axes.text(-0.05, y_lower + 0.5 * size_cluster_i, str(i))\n",
    "  y_lower = y_upper + 10\n",
    "\n",
    "axes.set_title(\"Index Silhoutte pada tiap Cluster\\nTerkonfirmasi, Meninggal\", fontsize=20, pad=20)\n",
    "axes.set_xlabel(\"Nilai Silhoutte Coeficent\")\n",
    "axes.set_ylabel(\"Cluster label\")\n",
    "\n",
    "axes.axvline(x=silavg_pm, color=\"red\", linestyle=\"--\")\n",
    "axes.set_yticks([])\n",
    "axes.set_xticks([-0.1, 0, 0.2, 0.4, 0.6, 0.8, 1])\n",
    "plt.savefig('/content/gdrive/My Drive/tugas_akhir/silhouette_pm.png',\n",
    "             dpi=300,\n",
    "             bbox_inches =\"tight\",\n",
    "             pad_inches = 1)\n",
    "\n",
    "plt.show()"
   ]
  },
  {
   "cell_type": "code",
   "execution_count": 33,
   "metadata": {
    "colab": {
     "base_uri": "https://localhost:8080/"
    },
    "executionInfo": {
     "elapsed": 9,
     "status": "ok",
     "timestamp": 1675006151221,
     "user": {
      "displayName": "Abied Rabbani",
      "userId": "07382021329668775231"
     },
     "user_tz": -480
    },
    "id": "1gDggFdfsOsd",
    "outputId": "23eb0600-b94a-414e-e374-533f3c709e8a"
   },
   "outputs": [
    {
     "name": "stdout",
     "output_type": "stream",
     "text": [
      "Range nilai silhoutte: 0.0010802947452171713, 0.9708215362875922\n",
      "\n",
      "nilai silhoutte cluster 0 = 0.7945227298828484\n",
      "nilai silhoutte cluster 1 = 0.9452316356556538\n",
      "nilai silhoutte cluster 2 = 0.4840636529442688\n",
      "\n",
      "Range nilai silhoutte pada cluster 0 = 0.018899675325332297, 0.8901085097421538\n",
      "Range nilai silhoutte pada cluster 1 = 0.017918305983614588, 0.9708215362875922\n",
      "Range nilai silhoutte pada cluster 2 = 0.0010802947452171713, 0.6199982660835874\n"
     ]
    }
   ],
   "source": [
    "max_pm_0, min_pm_0 = np.max(sample_sil_pm[label_pm==0]), np.min(sample_sil_pm[label_pm==0])\n",
    "max_pm_1, min_pm_1 = np.max(sample_sil_pm[label_pm==1]), np.min(sample_sil_pm[label_pm==1])\n",
    "max_pm_2, min_pm_2 = np.max(sample_sil_pm[label_pm==2]), np.min(sample_sil_pm[label_pm==2])\n",
    "\n",
    "print(f'Range nilai silhoutte: {np.min(sample_sil_pm)}, {np.max(sample_sil_pm)}')\n",
    "print(\"\")\n",
    "print(f'nilai silhoutte cluster 0 = {np.average(sample_sil_pm[label_pm==0])}')\n",
    "print(f'nilai silhoutte cluster 1 = {np.average(sample_sil_pm[label_pm==1])}')\n",
    "print(f'nilai silhoutte cluster 2 = {np.average(sample_sil_pm[label_pm==2])}')\n",
    "print(\"\")\n",
    "print(f'Range nilai silhoutte pada cluster 0 = {min_pm_0}, {max_pm_0}')\n",
    "print(f'Range nilai silhoutte pada cluster 1 = {min_pm_1}, {max_pm_1}')\n",
    "print(f'Range nilai silhoutte pada cluster 2 = {min_pm_2}, {max_pm_2}')"
   ]
  }
 ],
 "metadata": {
  "colab": {
   "authorship_tag": "ABX9TyP8fFLotD//YoOk7nHSshkS",
   "collapsed_sections": [
    "B8qcoJ31p2I6",
    "-n1jyb6JCd4q"
   ],
   "provenance": []
  },
  "kernelspec": {
   "display_name": "Python 3 (ipykernel)",
   "language": "python",
   "name": "python3"
  },
  "language_info": {
   "codemirror_mode": {
    "name": "ipython",
    "version": 3
   },
   "file_extension": ".py",
   "mimetype": "text/x-python",
   "name": "python",
   "nbconvert_exporter": "python",
   "pygments_lexer": "ipython3",
   "version": "3.9.13"
  }
 },
 "nbformat": 4,
 "nbformat_minor": 1
}
